{
  "nbformat": 4,
  "nbformat_minor": 0,
  "metadata": {
    "colab": {
      "name": "Khislat Zhuraeva_LS_DS_111_Exploratory_Data_Analysis_Assignment.ipynb",
      "provenance": [],
      "collapsed_sections": [],
      "include_colab_link": true
    },
    "kernelspec": {
      "name": "python3",
      "display_name": "Python 3"
    }
  },
  "cells": [
    {
      "cell_type": "markdown",
      "metadata": {
        "id": "view-in-github",
        "colab_type": "text"
      },
      "source": [
        "<a href=\"https://colab.research.google.com/github/Khislatz/DS-Unit-1-Sprint-1-Data-Wrangling-and-Storytelling/blob/master/Khislat_Zhuraeva_LS_DS_111_Exploratory_Data_Analysis_Assignment.ipynb\" target=\"_parent\"><img src=\"https://colab.research.google.com/assets/colab-badge.svg\" alt=\"Open In Colab\"/></a>"
      ]
    },
    {
      "cell_type": "markdown",
      "metadata": {
        "colab_type": "text",
        "id": "MSnsTgZLKO72"
      },
      "source": [
        "# Practice Loading and Exploring Datasets\n",
        "\n",
        "This assignment is purposely open-ended. You will be asked to load datasets from the [UC-Irvine Machine Learning Repository](https://archive.ics.uci.edu/ml/index.php). \n",
        "\n",
        "Even though you maybe using different datasets than your fellow classmates, try and be supportive and assist each other in the challenges that you are facing. You will only deepend your understanding of these topics as you work to assist one another. Many popular UCI datasets face similar data loading challenges.\n",
        "\n",
        "Remember that the UCI datasets do not necessarily have a file type of `.csv` so it's important that you learn as much as you can about the dataset before you try and load it. See if you can look at the raw text of the file either locally or using the `!curl` shell command -or in some other way before you try and read it in as a dataframe. This will help you catch what would otherwise be unforseen problems.\n",
        "\n",
        "Feel free to embellish this notebook with additional markdown cells,code cells, comments, graphs, etc. Whatever you think helps adequately address the questions."
      ]
    },
    {
      "cell_type": "markdown",
      "metadata": {
        "id": "156P6ndeKojO",
        "colab_type": "text"
      },
      "source": [
        "## 1) Load a dataset from UCI (via its URL)\n",
        "\n",
        "Please navigate to the home page and choose a dataset (other than the Adult dataset) from the \"Most Popular\" section on the right-hand side of the home page. Load the dataset via its URL and check the following (show your work):\n",
        "\n",
        "- Are the headers showing up properly?\n",
        "- Look at the first 5 and the last 5 rows, do they seem to be in order?\n",
        "- Does the dataset have the correct number of rows and columns as described in the UCI page? \n",
        " - Remember, that UCI does not count the y variable (column of values that we might want to predict via a machine learning model) as an \"attribute\" but rather as a \"class attribute\" so you may end up seeing a number of columns that is one greater than the number listed on the UCI website.\n",
        "- Does UCI list this dataset as having missing values? Check for missing values and see if your analysis corroborates what UCI reports?\n",
        "- if `NaN` values or other missing value indicators are not being detected by `df.isnull().sum()` find a way to replace whatever is indicating the missing values with `np.NaN`.\n",
        "- Use the .describe() function in order to see the summary statistics of both the numeric and non-numeric columns. "
      ]
    },
    {
      "cell_type": "code",
      "metadata": {
        "id": "NJdISe69ZT7E",
        "colab_type": "code",
        "outputId": "7c884922-b8db-45a0-8d24-a9883ccc6663",
        "colab": {
          "base_uri": "https://localhost:8080/",
          "height": 260
        }
      },
      "source": [
        "# TODO your work here!\n",
        "# And note you should write comments, descriptions, and add new\n",
        "# code and text blocks as needed\n",
        "import pandas as pd\n",
        "import numpy as np\n",
        "column_headers = ['Sex', 'Length', 'Diameter', 'Height', 'Whole weight', \n",
        "                  'Shucked weight', 'Viscera weight','Shell weight', 'Rings']\n",
        "data_url = 'https://archive.ics.uci.edu/ml/machine-learning-databases/abalone/abalone.data'\n",
        "\n",
        "#The headers were not showing properly, therefore we added: header = None and \n",
        "#replaced names with column_headers\n",
        "df = pd.read_csv(data_url, header = None, names = column_headers)\n",
        "print(df)\n"
      ],
      "execution_count": 0,
      "outputs": [
        {
          "output_type": "stream",
          "text": [
            "     Sex  Length  Diameter  ...  Viscera weight  Shell weight  Rings\n",
            "0      M   0.455     0.365  ...          0.1010        0.1500     15\n",
            "1      M   0.350     0.265  ...          0.0485        0.0700      7\n",
            "2      F   0.530     0.420  ...          0.1415        0.2100      9\n",
            "3      M   0.440     0.365  ...          0.1140        0.1550     10\n",
            "4      I   0.330     0.255  ...          0.0395        0.0550      7\n",
            "...   ..     ...       ...  ...             ...           ...    ...\n",
            "4172   F   0.565     0.450  ...          0.2390        0.2490     11\n",
            "4173   M   0.590     0.440  ...          0.2145        0.2605     10\n",
            "4174   M   0.600     0.475  ...          0.2875        0.3080      9\n",
            "4175   F   0.625     0.485  ...          0.2610        0.2960     10\n",
            "4176   M   0.710     0.555  ...          0.3765        0.4950     12\n",
            "\n",
            "[4177 rows x 9 columns]\n"
          ],
          "name": "stdout"
        }
      ]
    },
    {
      "cell_type": "code",
      "metadata": {
        "id": "CK774C_kwkGo",
        "colab_type": "code",
        "outputId": "470137f0-07ef-4397-d298-0de529687cf8",
        "colab": {
          "base_uri": "https://localhost:8080/",
          "height": 294
        }
      },
      "source": [
        "#They look in order\n",
        "print(df.head(5))\n",
        "print(df.tail(5))"
      ],
      "execution_count": 0,
      "outputs": [
        {
          "output_type": "stream",
          "text": [
            "  Sex  Length  Diameter  ...  Viscera weight  Shell weight  Rings\n",
            "0   M   0.455     0.365  ...          0.1010         0.150     15\n",
            "1   M   0.350     0.265  ...          0.0485         0.070      7\n",
            "2   F   0.530     0.420  ...          0.1415         0.210      9\n",
            "3   M   0.440     0.365  ...          0.1140         0.155     10\n",
            "4   I   0.330     0.255  ...          0.0395         0.055      7\n",
            "\n",
            "[5 rows x 9 columns]\n",
            "     Sex  Length  Diameter  ...  Viscera weight  Shell weight  Rings\n",
            "4172   F   0.565     0.450  ...          0.2390        0.2490     11\n",
            "4173   M   0.590     0.440  ...          0.2145        0.2605     10\n",
            "4174   M   0.600     0.475  ...          0.2875        0.3080      9\n",
            "4175   F   0.625     0.485  ...          0.2610        0.2960     10\n",
            "4176   M   0.710     0.555  ...          0.3765        0.4950     12\n",
            "\n",
            "[5 rows x 9 columns]\n"
          ],
          "name": "stdout"
        }
      ]
    },
    {
      "cell_type": "code",
      "metadata": {
        "id": "LajnnIACs5LO",
        "colab_type": "code",
        "outputId": "0da8dace-b6ea-4089-95e5-882590b10362",
        "colab": {
          "base_uri": "https://localhost:8080/",
          "height": 34
        }
      },
      "source": [
        "#According to UCI page there are 8 attributes and 4177 number of instances. However, when they list attributes themselves, there are 9 of them. This is the same number that I got. \n",
        "df.shape"
      ],
      "execution_count": 0,
      "outputs": [
        {
          "output_type": "execute_result",
          "data": {
            "text/plain": [
              "(4177, 9)"
            ]
          },
          "metadata": {
            "tags": []
          },
          "execution_count": 42
        }
      ]
    },
    {
      "cell_type": "markdown",
      "metadata": {
        "id": "4vC4FTE7vp3z",
        "colab_type": "text"
      },
      "source": [
        "According to the UCI, there are no missing values. We also check and confirm that below. "
      ]
    },
    {
      "cell_type": "code",
      "metadata": {
        "id": "FstVNqkbtEjv",
        "colab_type": "code",
        "outputId": "66d644bd-0781-45b4-9272-4b79a43c8803",
        "colab": {
          "base_uri": "https://localhost:8080/",
          "height": 416
        }
      },
      "source": [
        "df.isnull()"
      ],
      "execution_count": 0,
      "outputs": [
        {
          "output_type": "execute_result",
          "data": {
            "text/html": [
              "<div>\n",
              "<style scoped>\n",
              "    .dataframe tbody tr th:only-of-type {\n",
              "        vertical-align: middle;\n",
              "    }\n",
              "\n",
              "    .dataframe tbody tr th {\n",
              "        vertical-align: top;\n",
              "    }\n",
              "\n",
              "    .dataframe thead th {\n",
              "        text-align: right;\n",
              "    }\n",
              "</style>\n",
              "<table border=\"1\" class=\"dataframe\">\n",
              "  <thead>\n",
              "    <tr style=\"text-align: right;\">\n",
              "      <th></th>\n",
              "      <th>Sex</th>\n",
              "      <th>Length</th>\n",
              "      <th>Diameter</th>\n",
              "      <th>Height</th>\n",
              "      <th>Whole weight</th>\n",
              "      <th>Shucked weight</th>\n",
              "      <th>Viscera weight</th>\n",
              "      <th>Shell weight</th>\n",
              "      <th>Rings</th>\n",
              "    </tr>\n",
              "  </thead>\n",
              "  <tbody>\n",
              "    <tr>\n",
              "      <th>0</th>\n",
              "      <td>False</td>\n",
              "      <td>False</td>\n",
              "      <td>False</td>\n",
              "      <td>False</td>\n",
              "      <td>False</td>\n",
              "      <td>False</td>\n",
              "      <td>False</td>\n",
              "      <td>False</td>\n",
              "      <td>False</td>\n",
              "    </tr>\n",
              "    <tr>\n",
              "      <th>1</th>\n",
              "      <td>False</td>\n",
              "      <td>False</td>\n",
              "      <td>False</td>\n",
              "      <td>False</td>\n",
              "      <td>False</td>\n",
              "      <td>False</td>\n",
              "      <td>False</td>\n",
              "      <td>False</td>\n",
              "      <td>False</td>\n",
              "    </tr>\n",
              "    <tr>\n",
              "      <th>2</th>\n",
              "      <td>False</td>\n",
              "      <td>False</td>\n",
              "      <td>False</td>\n",
              "      <td>False</td>\n",
              "      <td>False</td>\n",
              "      <td>False</td>\n",
              "      <td>False</td>\n",
              "      <td>False</td>\n",
              "      <td>False</td>\n",
              "    </tr>\n",
              "    <tr>\n",
              "      <th>3</th>\n",
              "      <td>False</td>\n",
              "      <td>False</td>\n",
              "      <td>False</td>\n",
              "      <td>False</td>\n",
              "      <td>False</td>\n",
              "      <td>False</td>\n",
              "      <td>False</td>\n",
              "      <td>False</td>\n",
              "      <td>False</td>\n",
              "    </tr>\n",
              "    <tr>\n",
              "      <th>4</th>\n",
              "      <td>False</td>\n",
              "      <td>False</td>\n",
              "      <td>False</td>\n",
              "      <td>False</td>\n",
              "      <td>False</td>\n",
              "      <td>False</td>\n",
              "      <td>False</td>\n",
              "      <td>False</td>\n",
              "      <td>False</td>\n",
              "    </tr>\n",
              "    <tr>\n",
              "      <th>...</th>\n",
              "      <td>...</td>\n",
              "      <td>...</td>\n",
              "      <td>...</td>\n",
              "      <td>...</td>\n",
              "      <td>...</td>\n",
              "      <td>...</td>\n",
              "      <td>...</td>\n",
              "      <td>...</td>\n",
              "      <td>...</td>\n",
              "    </tr>\n",
              "    <tr>\n",
              "      <th>4172</th>\n",
              "      <td>False</td>\n",
              "      <td>False</td>\n",
              "      <td>False</td>\n",
              "      <td>False</td>\n",
              "      <td>False</td>\n",
              "      <td>False</td>\n",
              "      <td>False</td>\n",
              "      <td>False</td>\n",
              "      <td>False</td>\n",
              "    </tr>\n",
              "    <tr>\n",
              "      <th>4173</th>\n",
              "      <td>False</td>\n",
              "      <td>False</td>\n",
              "      <td>False</td>\n",
              "      <td>False</td>\n",
              "      <td>False</td>\n",
              "      <td>False</td>\n",
              "      <td>False</td>\n",
              "      <td>False</td>\n",
              "      <td>False</td>\n",
              "    </tr>\n",
              "    <tr>\n",
              "      <th>4174</th>\n",
              "      <td>False</td>\n",
              "      <td>False</td>\n",
              "      <td>False</td>\n",
              "      <td>False</td>\n",
              "      <td>False</td>\n",
              "      <td>False</td>\n",
              "      <td>False</td>\n",
              "      <td>False</td>\n",
              "      <td>False</td>\n",
              "    </tr>\n",
              "    <tr>\n",
              "      <th>4175</th>\n",
              "      <td>False</td>\n",
              "      <td>False</td>\n",
              "      <td>False</td>\n",
              "      <td>False</td>\n",
              "      <td>False</td>\n",
              "      <td>False</td>\n",
              "      <td>False</td>\n",
              "      <td>False</td>\n",
              "      <td>False</td>\n",
              "    </tr>\n",
              "    <tr>\n",
              "      <th>4176</th>\n",
              "      <td>False</td>\n",
              "      <td>False</td>\n",
              "      <td>False</td>\n",
              "      <td>False</td>\n",
              "      <td>False</td>\n",
              "      <td>False</td>\n",
              "      <td>False</td>\n",
              "      <td>False</td>\n",
              "      <td>False</td>\n",
              "    </tr>\n",
              "  </tbody>\n",
              "</table>\n",
              "<p>4177 rows × 9 columns</p>\n",
              "</div>"
            ],
            "text/plain": [
              "        Sex  Length  Diameter  ...  Viscera weight  Shell weight  Rings\n",
              "0     False   False     False  ...           False         False  False\n",
              "1     False   False     False  ...           False         False  False\n",
              "2     False   False     False  ...           False         False  False\n",
              "3     False   False     False  ...           False         False  False\n",
              "4     False   False     False  ...           False         False  False\n",
              "...     ...     ...       ...  ...             ...           ...    ...\n",
              "4172  False   False     False  ...           False         False  False\n",
              "4173  False   False     False  ...           False         False  False\n",
              "4174  False   False     False  ...           False         False  False\n",
              "4175  False   False     False  ...           False         False  False\n",
              "4176  False   False     False  ...           False         False  False\n",
              "\n",
              "[4177 rows x 9 columns]"
            ]
          },
          "metadata": {
            "tags": []
          },
          "execution_count": 43
        }
      ]
    },
    {
      "cell_type": "code",
      "metadata": {
        "id": "zIf59alVvfgV",
        "colab_type": "code",
        "outputId": "8394ac88-7c4e-4cb3-f6e8-0b28e3f8e0fa",
        "colab": {
          "base_uri": "https://localhost:8080/",
          "height": 190
        }
      },
      "source": [
        "df.isnull().sum()"
      ],
      "execution_count": 0,
      "outputs": [
        {
          "output_type": "execute_result",
          "data": {
            "text/plain": [
              "Sex               0\n",
              "Length            0\n",
              "Diameter          0\n",
              "Height            0\n",
              "Whole weight      0\n",
              "Shucked weight    0\n",
              "Viscera weight    0\n",
              "Shell weight      0\n",
              "Rings             0\n",
              "dtype: int64"
            ]
          },
          "metadata": {
            "tags": []
          },
          "execution_count": 44
        }
      ]
    },
    {
      "cell_type": "code",
      "metadata": {
        "id": "5qhFACqzwGPA",
        "colab_type": "code",
        "outputId": "9224e6b4-d250-4854-acdf-bba252d79b7d",
        "colab": {
          "base_uri": "https://localhost:8080/",
          "height": 294
        }
      },
      "source": [
        "df.describe()"
      ],
      "execution_count": 0,
      "outputs": [
        {
          "output_type": "execute_result",
          "data": {
            "text/html": [
              "<div>\n",
              "<style scoped>\n",
              "    .dataframe tbody tr th:only-of-type {\n",
              "        vertical-align: middle;\n",
              "    }\n",
              "\n",
              "    .dataframe tbody tr th {\n",
              "        vertical-align: top;\n",
              "    }\n",
              "\n",
              "    .dataframe thead th {\n",
              "        text-align: right;\n",
              "    }\n",
              "</style>\n",
              "<table border=\"1\" class=\"dataframe\">\n",
              "  <thead>\n",
              "    <tr style=\"text-align: right;\">\n",
              "      <th></th>\n",
              "      <th>Length</th>\n",
              "      <th>Diameter</th>\n",
              "      <th>Height</th>\n",
              "      <th>Whole weight</th>\n",
              "      <th>Shucked weight</th>\n",
              "      <th>Viscera weight</th>\n",
              "      <th>Shell weight</th>\n",
              "      <th>Rings</th>\n",
              "    </tr>\n",
              "  </thead>\n",
              "  <tbody>\n",
              "    <tr>\n",
              "      <th>count</th>\n",
              "      <td>4177.000000</td>\n",
              "      <td>4177.000000</td>\n",
              "      <td>4177.000000</td>\n",
              "      <td>4177.000000</td>\n",
              "      <td>4177.000000</td>\n",
              "      <td>4177.000000</td>\n",
              "      <td>4177.000000</td>\n",
              "      <td>4177.000000</td>\n",
              "    </tr>\n",
              "    <tr>\n",
              "      <th>mean</th>\n",
              "      <td>0.523992</td>\n",
              "      <td>0.407881</td>\n",
              "      <td>0.139516</td>\n",
              "      <td>0.828742</td>\n",
              "      <td>0.359367</td>\n",
              "      <td>0.180594</td>\n",
              "      <td>0.238831</td>\n",
              "      <td>9.933684</td>\n",
              "    </tr>\n",
              "    <tr>\n",
              "      <th>std</th>\n",
              "      <td>0.120093</td>\n",
              "      <td>0.099240</td>\n",
              "      <td>0.041827</td>\n",
              "      <td>0.490389</td>\n",
              "      <td>0.221963</td>\n",
              "      <td>0.109614</td>\n",
              "      <td>0.139203</td>\n",
              "      <td>3.224169</td>\n",
              "    </tr>\n",
              "    <tr>\n",
              "      <th>min</th>\n",
              "      <td>0.075000</td>\n",
              "      <td>0.055000</td>\n",
              "      <td>0.000000</td>\n",
              "      <td>0.002000</td>\n",
              "      <td>0.001000</td>\n",
              "      <td>0.000500</td>\n",
              "      <td>0.001500</td>\n",
              "      <td>1.000000</td>\n",
              "    </tr>\n",
              "    <tr>\n",
              "      <th>25%</th>\n",
              "      <td>0.450000</td>\n",
              "      <td>0.350000</td>\n",
              "      <td>0.115000</td>\n",
              "      <td>0.441500</td>\n",
              "      <td>0.186000</td>\n",
              "      <td>0.093500</td>\n",
              "      <td>0.130000</td>\n",
              "      <td>8.000000</td>\n",
              "    </tr>\n",
              "    <tr>\n",
              "      <th>50%</th>\n",
              "      <td>0.545000</td>\n",
              "      <td>0.425000</td>\n",
              "      <td>0.140000</td>\n",
              "      <td>0.799500</td>\n",
              "      <td>0.336000</td>\n",
              "      <td>0.171000</td>\n",
              "      <td>0.234000</td>\n",
              "      <td>9.000000</td>\n",
              "    </tr>\n",
              "    <tr>\n",
              "      <th>75%</th>\n",
              "      <td>0.615000</td>\n",
              "      <td>0.480000</td>\n",
              "      <td>0.165000</td>\n",
              "      <td>1.153000</td>\n",
              "      <td>0.502000</td>\n",
              "      <td>0.253000</td>\n",
              "      <td>0.329000</td>\n",
              "      <td>11.000000</td>\n",
              "    </tr>\n",
              "    <tr>\n",
              "      <th>max</th>\n",
              "      <td>0.815000</td>\n",
              "      <td>0.650000</td>\n",
              "      <td>1.130000</td>\n",
              "      <td>2.825500</td>\n",
              "      <td>1.488000</td>\n",
              "      <td>0.760000</td>\n",
              "      <td>1.005000</td>\n",
              "      <td>29.000000</td>\n",
              "    </tr>\n",
              "  </tbody>\n",
              "</table>\n",
              "</div>"
            ],
            "text/plain": [
              "            Length     Diameter  ...  Shell weight        Rings\n",
              "count  4177.000000  4177.000000  ...   4177.000000  4177.000000\n",
              "mean      0.523992     0.407881  ...      0.238831     9.933684\n",
              "std       0.120093     0.099240  ...      0.139203     3.224169\n",
              "min       0.075000     0.055000  ...      0.001500     1.000000\n",
              "25%       0.450000     0.350000  ...      0.130000     8.000000\n",
              "50%       0.545000     0.425000  ...      0.234000     9.000000\n",
              "75%       0.615000     0.480000  ...      0.329000    11.000000\n",
              "max       0.815000     0.650000  ...      1.005000    29.000000\n",
              "\n",
              "[8 rows x 8 columns]"
            ]
          },
          "metadata": {
            "tags": []
          },
          "execution_count": 45
        }
      ]
    },
    {
      "cell_type": "markdown",
      "metadata": {
        "id": "-gFnZR6iLLPY",
        "colab_type": "text"
      },
      "source": [
        "## 2) Load a dataset from your local machine.\n",
        "Choose a second dataset from the \"Popular Datasets\" listing on UCI, but this time download it to your local machine instead of reading it in via the URL. Upload the file to Google Colab using the files tab in the left-hand sidebar or by importing `files` from `google.colab` The following link will be a useful resource if you can't remember the syntax: <https://towardsdatascience.com/3-ways-to-load-csv-files-into-colab-7c14fcbdcb92>\n",
        "\n",
        "- Answer all of the same bullet point questions from part 1 again on this new dataset. \n"
      ]
    },
    {
      "cell_type": "code",
      "metadata": {
        "id": "qUmwX-ZoM9cq",
        "colab_type": "code",
        "outputId": "dcd130cb-312c-4e14-d1de-90e1bec372c0",
        "colab": {
          "resources": {
            "http://localhost:8080/nbextensions/google.colab/files.js": {
              "data": "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",
              "ok": true,
              "headers": [
                [
                  "content-type",
                  "application/javascript"
                ]
              ],
              "status": 200,
              "status_text": ""
            }
          },
          "base_uri": "https://localhost:8080/",
          "height": 110
        }
      },
      "source": [
        "# TODO your work here!\n",
        "# And note you should write comments, descriptions, and add new\n",
        "# code and text blocks as needed\n",
        "from google.colab import files \n",
        "files.upload() "
      ],
      "execution_count": 0,
      "outputs": [
        {
          "output_type": "display_data",
          "data": {
            "text/html": [
              "\n",
              "     <input type=\"file\" id=\"files-f805086d-ef25-440e-a40d-81fe25cc067b\" name=\"files[]\" multiple disabled />\n",
              "     <output id=\"result-f805086d-ef25-440e-a40d-81fe25cc067b\">\n",
              "      Upload widget is only available when the cell has been executed in the\n",
              "      current browser session. Please rerun this cell to enable.\n",
              "      </output>\n",
              "      <script src=\"/nbextensions/google.colab/files.js\"></script> "
            ],
            "text/plain": [
              "<IPython.core.display.HTML object>"
            ]
          },
          "metadata": {
            "tags": []
          }
        },
        {
          "output_type": "stream",
          "text": [
            "Saving forestfires.csv to forestfires (1).csv\n"
          ],
          "name": "stdout"
        },
        {
          "output_type": "execute_result",
          "data": {
            "text/plain": [
              "{'forestfires.csv': b'X,Y,month,day,FFMC,DMC,DC,ISI,temp,RH,wind,rain,area\\n7,5,mar,fri,86.2,26.2,94.3,5.1,8.2,51,6.7,0,0\\n7,4,oct,tue,90.6,35.4,669.1,6.7,18,33,0.9,0,0\\n7,4,oct,sat,90.6,43.7,686.9,6.7,14.6,33,1.3,0,0\\n8,6,mar,fri,91.7,33.3,77.5,9,8.3,97,4,0.2,0\\n8,6,mar,sun,89.3,51.3,102.2,9.6,11.4,99,1.8,0,0\\n8,6,aug,sun,92.3,85.3,488,14.7,22.2,29,5.4,0,0\\n8,6,aug,mon,92.3,88.9,495.6,8.5,24.1,27,3.1,0,0\\n8,6,aug,mon,91.5,145.4,608.2,10.7,8,86,2.2,0,0\\n8,6,sep,tue,91,129.5,692.6,7,13.1,63,5.4,0,0\\n7,5,sep,sat,92.5,88,698.6,7.1,22.8,40,4,0,0\\n7,5,sep,sat,92.5,88,698.6,7.1,17.8,51,7.2,0,0\\n7,5,sep,sat,92.8,73.2,713,22.6,19.3,38,4,0,0\\n6,5,aug,fri,63.5,70.8,665.3,0.8,17,72,6.7,0,0\\n6,5,sep,mon,90.9,126.5,686.5,7,21.3,42,2.2,0,0\\n6,5,sep,wed,92.9,133.3,699.6,9.2,26.4,21,4.5,0,0\\n6,5,sep,fri,93.3,141.2,713.9,13.9,22.9,44,5.4,0,0\\n5,5,mar,sat,91.7,35.8,80.8,7.8,15.1,27,5.4,0,0\\n8,5,oct,mon,84.9,32.8,664.2,3,16.7,47,4.9,0,0\\n6,4,mar,wed,89.2,27.9,70.8,6.3,15.9,35,4,0,0\\n6,4,apr,sat,86.3,27.4,97.1,5.1,9.3,44,4.5,0,0\\n6,4,sep,tue,91,129.5,692.6,7,18.3,40,2.7,0,0\\n5,4,sep,mon,91.8,78.5,724.3,9.2,19.1,38,2.7,0,0\\n7,4,jun,sun,94.3,96.3,200,56.1,21,44,4.5,0,0\\n7,4,aug,sat,90.2,110.9,537.4,6.2,19.5,43,5.8,0,0\\n7,4,aug,sat,93.5,139.4,594.2,20.3,23.7,32,5.8,0,0\\n7,4,aug,sun,91.4,142.4,601.4,10.6,16.3,60,5.4,0,0\\n7,4,sep,fri,92.4,117.9,668,12.2,19,34,5.8,0,0\\n7,4,sep,mon,90.9,126.5,686.5,7,19.4,48,1.3,0,0\\n6,3,sep,sat,93.4,145.4,721.4,8.1,30.2,24,2.7,0,0\\n6,3,sep,sun,93.5,149.3,728.6,8.1,22.8,39,3.6,0,0\\n6,3,sep,fri,94.3,85.1,692.3,15.9,25.4,24,3.6,0,0\\n6,3,sep,mon,88.6,91.8,709.9,7.1,11.2,78,7.6,0,0\\n6,3,sep,fri,88.6,69.7,706.8,5.8,20.6,37,1.8,0,0\\n6,3,sep,sun,91.7,75.6,718.3,7.8,17.7,39,3.6,0,0\\n6,3,sep,mon,91.8,78.5,724.3,9.2,21.2,32,2.7,0,0\\n6,3,sep,tue,90.3,80.7,730.2,6.3,18.2,62,4.5,0,0\\n6,3,oct,tue,90.6,35.4,669.1,6.7,21.7,24,4.5,0,0\\n7,4,oct,fri,90,41.5,682.6,8.7,11.3,60,5.4,0,0\\n7,3,oct,sat,90.6,43.7,686.9,6.7,17.8,27,4,0,0\\n4,4,mar,tue,88.1,25.7,67.6,3.8,14.1,43,2.7,0,0\\n4,4,jul,tue,79.5,60.6,366.7,1.5,23.3,37,3.1,0,0\\n4,4,aug,sat,90.2,96.9,624.2,8.9,18.4,42,6.7,0,0\\n4,4,aug,tue,94.8,108.3,647.1,17,16.6,54,5.4,0,0\\n4,4,sep,sat,92.5,88,698.6,7.1,19.6,48,2.7,0,0\\n4,4,sep,wed,90.1,82.9,735.7,6.2,12.9,74,4.9,0,0\\n5,6,sep,wed,94.3,85.1,692.3,15.9,25.9,24,4,0,0\\n5,6,sep,mon,90.9,126.5,686.5,7,14.7,70,3.6,0,0\\n6,6,jul,mon,94.2,62.3,442.9,11,23,36,3.1,0,0\\n4,4,mar,mon,87.2,23.9,64.7,4.1,11.8,35,1.8,0,0\\n4,4,mar,mon,87.6,52.2,103.8,5,11,46,5.8,0,0\\n4,4,sep,thu,92.9,137,706.4,9.2,20.8,17,1.3,0,0\\n4,3,aug,sun,90.2,99.6,631.2,6.3,21.5,34,2.2,0,0\\n4,3,aug,wed,92.1,111.2,654.1,9.6,20.4,42,4.9,0,0\\n4,3,aug,wed,92.1,111.2,654.1,9.6,20.4,42,4.9,0,0\\n4,3,aug,thu,91.7,114.3,661.3,6.3,17.6,45,3.6,0,0\\n4,3,sep,thu,92.9,137,706.4,9.2,27.7,24,2.2,0,0\\n4,3,sep,tue,90.3,80.7,730.2,6.3,17.8,63,4.9,0,0\\n4,3,oct,sun,92.6,46.5,691.8,8.8,13.8,50,2.7,0,0\\n2,2,feb,mon,84,9.3,34,2.1,13.9,40,5.4,0,0\\n2,2,feb,fri,86.6,13.2,43,5.3,12.3,51,0.9,0,0\\n2,2,mar,sun,89.3,51.3,102.2,9.6,11.5,39,5.8,0,0\\n2,2,mar,sun,89.3,51.3,102.2,9.6,5.5,59,6.3,0,0\\n2,2,aug,thu,93,75.3,466.6,7.7,18.8,35,4.9,0,0\\n2,2,aug,sun,90.2,99.6,631.2,6.3,20.8,33,2.7,0,0\\n2,2,aug,mon,91.1,103.2,638.8,5.8,23.1,31,3.1,0,0\\n2,2,aug,thu,91.7,114.3,661.3,6.3,18.6,44,4.5,0,0\\n2,2,sep,fri,92.4,117.9,668,12.2,23,37,4.5,0,0\\n2,2,sep,fri,92.4,117.9,668,12.2,19.6,33,5.4,0,0\\n2,2,sep,fri,92.4,117.9,668,12.2,19.6,33,6.3,0,0\\n4,5,mar,fri,91.7,33.3,77.5,9,17.2,26,4.5,0,0\\n4,5,mar,fri,91.2,48.3,97.8,12.5,15.8,27,7.6,0,0\\n4,5,sep,fri,94.3,85.1,692.3,15.9,17.7,37,3.6,0,0\\n5,4,mar,fri,91.7,33.3,77.5,9,15.6,25,6.3,0,0\\n5,4,aug,tue,88.8,147.3,614.5,9,17.3,43,4.5,0,0\\n5,4,sep,fri,93.3,141.2,713.9,13.9,27.6,30,1.3,0,0\\n9,9,feb,thu,84.2,6.8,26.6,7.7,6.7,79,3.1,0,0\\n9,9,feb,fri,86.6,13.2,43,5.3,15.7,43,3.1,0,0\\n1,3,mar,mon,87.6,52.2,103.8,5,8.3,72,3.1,0,0\\n1,2,aug,fri,90.1,108,529.8,12.5,14.7,66,2.7,0,0\\n1,2,aug,tue,91,121.2,561.6,7,21.6,19,6.7,0,0\\n1,2,aug,sun,91.4,142.4,601.4,10.6,19.5,39,6.3,0,0\\n1,2,aug,sun,90.2,99.6,631.2,6.3,17.9,44,2.2,0,0\\n1,2,aug,tue,94.8,108.3,647.1,17,18.6,51,4.5,0,0\\n1,2,aug,wed,92.1,111.2,654.1,9.6,16.6,47,0.9,0,0\\n1,2,aug,thu,91.7,114.3,661.3,6.3,20.2,45,3.6,0,0\\n1,2,sep,thu,92.9,137,706.4,9.2,21.5,15,0.9,0,0\\n1,2,sep,thu,92.9,137,706.4,9.2,25.4,27,2.2,0,0\\n1,2,sep,thu,92.9,137,706.4,9.2,22.4,34,2.2,0,0\\n1,2,sep,sun,93.5,149.3,728.6,8.1,25.3,36,3.6,0,0\\n6,5,mar,sat,91.7,35.8,80.8,7.8,17.4,25,4.9,0,0\\n6,5,aug,sat,90.2,96.9,624.2,8.9,14.7,59,5.8,0,0\\n8,6,mar,fri,91.7,35.8,80.8,7.8,17.4,24,5.4,0,0\\n8,6,aug,sun,92.3,85.3,488,14.7,20.8,32,6.3,0,0\\n8,6,aug,sun,91.4,142.4,601.4,10.6,18.2,43,4.9,0,0\\n8,6,aug,mon,91.1,103.2,638.8,5.8,23.4,22,2.7,0,0\\n4,4,sep,sun,89.7,90,704.4,4.8,17.8,64,1.3,0,0\\n3,4,feb,sat,83.9,8,30.2,2.6,12.7,48,1.8,0,0\\n3,4,mar,sat,69,2.4,15.5,0.7,17.4,24,5.4,0,0\\n3,4,aug,sun,91.4,142.4,601.4,10.6,11.6,87,4.5,0,0\\n3,4,aug,sun,91.4,142.4,601.4,10.6,19.8,39,5.4,0,0\\n3,4,aug,sun,91.4,142.4,601.4,10.6,19.8,39,5.4,0,0\\n3,4,aug,tue,88.8,147.3,614.5,9,14.4,66,5.4,0,0\\n2,4,aug,tue,94.8,108.3,647.1,17,20.1,40,4,0,0\\n2,4,sep,sat,92.5,121.1,674.4,8.6,24.1,29,4.5,0,0\\n2,4,jan,sat,82.1,3.7,9.3,2.9,5.3,78,3.1,0,0\\n4,5,mar,fri,85.9,19.5,57.3,2.8,12.7,52,6.3,0,0\\n4,5,mar,thu,91.4,30.7,74.3,7.5,18.2,29,3.1,0,0\\n4,5,aug,sun,90.2,99.6,631.2,6.3,21.4,33,3.1,0,0\\n4,5,sep,sat,92.5,88,698.6,7.1,20.3,45,3.1,0,0\\n4,5,sep,mon,88.6,91.8,709.9,7.1,17.4,56,5.4,0,0\\n4,4,mar,fri,85.9,19.5,57.3,2.8,13.7,43,5.8,0,0\\n3,4,mar,fri,91.7,33.3,77.5,9,18.8,18,4.5,0,0\\n3,4,sep,sun,89.7,90,704.4,4.8,22.8,39,3.6,0,0\\n3,4,sep,mon,91.8,78.5,724.3,9.2,18.9,35,2.7,0,0\\n3,4,mar,tue,88.1,25.7,67.6,3.8,15.8,27,7.6,0,0\\n3,5,mar,tue,88.1,25.7,67.6,3.8,15.5,27,6.3,0,0\\n3,4,mar,sat,91.7,35.8,80.8,7.8,11.6,30,6.3,0,0\\n3,4,mar,sat,91.7,35.8,80.8,7.8,15.2,27,4.9,0,0\\n3,4,mar,mon,90.1,39.7,86.6,6.2,10.6,30,4,0,0\\n3,4,aug,thu,93,75.3,466.6,7.7,19.6,36,3.1,0,0\\n3,4,aug,mon,91.5,145.4,608.2,10.7,10.3,74,2.2,0,0\\n3,4,aug,mon,91.5,145.4,608.2,10.7,17.1,43,5.4,0,0\\n3,4,sep,sun,92.4,124.1,680.7,8.5,22.5,42,5.4,0,0\\n3,4,sep,tue,84.4,73.4,671.9,3.2,17.9,45,3.1,0,0\\n3,4,sep,fri,94.3,85.1,692.3,15.9,19.8,50,5.4,0,0\\n3,4,oct,sun,92.6,46.5,691.8,8.8,20.6,24,5.4,0,0\\n3,5,mar,mon,87.6,52.2,103.8,5,9,49,2.2,0,0\\n3,5,sep,fri,93.5,149.3,728.6,8.1,17.2,43,3.1,0,0\\n3,5,oct,wed,91.4,37.9,673.8,5.2,15.9,46,3.6,0,0\\n2,5,oct,sun,92.6,46.5,691.8,8.8,15.4,35,0.9,0,0\\n4,6,feb,sat,68.2,21.5,87.2,0.8,15.4,40,2.7,0,0\\n4,6,mar,mon,87.2,23.9,64.7,4.1,14,39,3.1,0,0\\n4,6,mar,sun,89.3,51.3,102.2,9.6,10.6,46,4.9,0,0\\n4,6,sep,thu,93.7,80.9,685.2,17.9,17.6,42,3.1,0,0\\n3,5,mar,tue,88.1,25.7,67.6,3.8,14.9,38,2.7,0,0\\n3,5,aug,sat,93.5,139.4,594.2,20.3,17.6,52,5.8,0,0\\n3,6,sep,sun,92.4,124.1,680.7,8.5,17.2,58,1.3,0,0\\n3,6,sep,mon,90.9,126.5,686.5,7,15.6,66,3.1,0,0\\n9,9,jul,tue,85.8,48.3,313.4,3.9,18,42,2.7,0,0.36\\n1,4,sep,tue,91,129.5,692.6,7,21.7,38,2.2,0,0.43\\n2,5,sep,mon,90.9,126.5,686.5,7,21.9,39,1.8,0,0.47\\n1,2,aug,wed,95.5,99.9,513.3,13.2,23.3,31,4.5,0,0.55\\n8,6,aug,fri,90.1,108,529.8,12.5,21.2,51,8.9,0,0.61\\n1,2,jul,sat,90,51.3,296.3,8.7,16.6,53,5.4,0,0.71\\n2,5,aug,wed,95.5,99.9,513.3,13.2,23.8,32,5.4,0,0.77\\n6,5,aug,thu,95.2,131.7,578.8,10.4,27.4,22,4,0,0.9\\n5,4,mar,mon,90.1,39.7,86.6,6.2,13.2,40,5.4,0,0.95\\n8,3,sep,tue,84.4,73.4,671.9,3.2,24.2,28,3.6,0,0.96\\n2,2,aug,tue,94.8,108.3,647.1,17,17.4,43,6.7,0,1.07\\n8,6,sep,thu,93.7,80.9,685.2,17.9,23.7,25,4.5,0,1.12\\n6,5,jun,fri,92.5,56.4,433.3,7.1,23.2,39,5.4,0,1.19\\n9,9,jul,sun,90.1,68.6,355.2,7.2,24.8,29,2.2,0,1.36\\n3,4,jul,sat,90.1,51.2,424.1,6.2,24.6,43,1.8,0,1.43\\n5,4,sep,fri,94.3,85.1,692.3,15.9,20.1,47,4.9,0,1.46\\n1,5,sep,sat,93.4,145.4,721.4,8.1,29.6,27,2.7,0,1.46\\n7,4,aug,sun,94.8,108.3,647.1,17,16.4,47,1.3,0,1.56\\n2,4,sep,sat,93.4,145.4,721.4,8.1,28.6,27,2.2,0,1.61\\n2,2,aug,wed,92.1,111.2,654.1,9.6,18.4,45,3.6,0,1.63\\n2,4,aug,wed,92.1,111.2,654.1,9.6,20.5,35,4,0,1.64\\n7,4,sep,fri,92.4,117.9,668,12.2,19,34,5.8,0,1.69\\n7,4,mar,mon,90.1,39.7,86.6,6.2,16.1,29,3.1,0,1.75\\n6,4,aug,thu,95.2,131.7,578.8,10.4,20.3,41,4,0,1.9\\n6,3,mar,sat,90.6,50.1,100.4,7.8,15.2,31,8.5,0,1.94\\n8,6,sep,sat,92.5,121.1,674.4,8.6,17.8,56,1.8,0,1.95\\n8,5,sep,sun,89.7,90,704.4,4.8,17.8,67,2.2,0,2.01\\n6,5,mar,thu,84.9,18.2,55,3,5.3,70,4.5,0,2.14\\n6,5,aug,wed,92.1,111.2,654.1,9.6,16.6,47,0.9,0,2.29\\n6,5,aug,wed,96,127.1,570.5,16.5,23.4,33,4.5,0,2.51\\n6,5,mar,fri,91.2,48.3,97.8,12.5,14.6,26,9.4,0,2.53\\n8,6,aug,thu,95.2,131.7,578.8,10.4,20.7,45,2.2,0,2.55\\n5,4,sep,wed,92.9,133.3,699.6,9.2,21.9,35,1.8,0,2.57\\n8,6,aug,wed,85.6,90.4,609.6,6.6,17.4,50,4,0,2.69\\n7,4,aug,sun,91.4,142.4,601.4,10.6,20.1,39,5.4,0,2.74\\n4,4,sep,mon,90.9,126.5,686.5,7,17.7,39,2.2,0,3.07\\n1,4,aug,sat,90.2,96.9,624.2,8.9,14.2,53,1.8,0,3.5\\n1,4,aug,sat,90.2,96.9,624.2,8.9,20.3,39,4.9,0,4.53\\n6,5,apr,thu,81.5,9.1,55.2,2.7,5.8,54,5.8,0,4.61\\n2,5,aug,sun,90.2,99.6,631.2,6.3,19.2,44,2.7,0,4.69\\n2,5,sep,wed,90.1,82.9,735.7,6.2,18.3,45,2.2,0,4.88\\n8,6,aug,tue,88.8,147.3,614.5,9,14.4,66,5.4,0,5.23\\n1,3,sep,sun,92.4,124.1,680.7,8.5,23.9,32,6.7,0,5.33\\n8,6,oct,mon,84.9,32.8,664.2,3,19.1,32,4,0,5.44\\n5,4,feb,sun,86.8,15.6,48.3,3.9,12.4,53,2.2,0,6.38\\n7,4,oct,mon,91.7,48.5,696.1,11.1,16.8,45,4.5,0,6.83\\n8,6,aug,fri,93.9,135.7,586.7,15.1,20.8,34,4.9,0,6.96\\n2,5,sep,tue,91,129.5,692.6,7,17.6,46,3.1,0,7.04\\n8,6,mar,sun,89.3,51.3,102.2,9.6,11.5,39,5.8,0,7.19\\n1,5,sep,mon,90.9,126.5,686.5,7,21,42,2.2,0,7.3\\n6,4,mar,sat,90.8,41.9,89.4,7.9,13.3,42,0.9,0,7.4\\n7,4,mar,sun,90.7,44,92.4,5.5,11.5,60,4,0,8.24\\n6,5,mar,fri,91.2,48.3,97.8,12.5,11.7,33,4,0,8.31\\n2,5,aug,thu,95.2,131.7,578.8,10.4,24.2,28,2.7,0,8.68\\n2,2,aug,tue,94.8,108.3,647.1,17,24.6,22,4.5,0,8.71\\n4,5,sep,wed,92.9,133.3,699.6,9.2,24.3,25,4,0,9.41\\n2,2,aug,tue,94.8,108.3,647.1,17,24.6,22,4.5,0,10.01\\n2,5,aug,fri,93.9,135.7,586.7,15.1,23.5,36,5.4,0,10.02\\n6,5,apr,thu,81.5,9.1,55.2,2.7,5.8,54,5.8,0,10.93\\n4,5,sep,thu,92.9,137,706.4,9.2,21.5,15,0.9,0,11.06\\n3,4,sep,tue,91,129.5,692.6,7,13.9,59,6.3,0,11.24\\n2,4,sep,mon,63.5,70.8,665.3,0.8,22.6,38,3.6,0,11.32\\n1,5,sep,tue,91,129.5,692.6,7,21.6,33,2.2,0,11.53\\n6,5,mar,sun,90.1,37.6,83.7,7.2,12.4,54,3.6,0,12.1\\n7,4,feb,sun,83.9,8.7,32.1,2.1,8.8,68,2.2,0,13.05\\n8,6,oct,wed,91.4,37.9,673.8,5.2,20.2,37,2.7,0,13.7\\n5,6,mar,sat,90.6,50.1,100.4,7.8,15.1,64,4,0,13.99\\n4,5,sep,thu,92.9,137,706.4,9.2,22.1,34,1.8,0,14.57\\n2,2,aug,sat,93.5,139.4,594.2,20.3,22.9,31,7.2,0,15.45\\n7,5,sep,tue,91,129.5,692.6,7,20.7,37,2.2,0,17.2\\n6,5,sep,fri,92.4,117.9,668,12.2,19.6,33,6.3,0,19.23\\n8,3,sep,thu,93.7,80.9,685.2,17.9,23.2,26,4.9,0,23.41\\n4,4,oct,sat,90.6,43.7,686.9,6.7,18.4,25,3.1,0,24.23\\n7,4,aug,sat,93.5,139.4,594.2,20.3,5.1,96,5.8,0,26\\n7,4,sep,fri,94.3,85.1,692.3,15.9,20.1,47,4.9,0,26.13\\n7,3,mar,mon,87.6,52.2,103.8,5,11,46,5.8,0,27.35\\n4,4,mar,sat,91.7,35.8,80.8,7.8,17,27,4.9,0,28.66\\n4,4,mar,sat,91.7,35.8,80.8,7.8,17,27,4.9,0,28.66\\n4,4,sep,sun,92.4,124.1,680.7,8.5,16.9,60,1.3,0,29.48\\n1,3,sep,mon,88.6,91.8,709.9,7.1,12.4,73,6.3,0,30.32\\n4,5,sep,wed,92.9,133.3,699.6,9.2,19.4,19,1.3,0,31.72\\n6,5,mar,mon,90.1,39.7,86.6,6.2,15.2,27,3.1,0,31.86\\n8,6,aug,sun,90.2,99.6,631.2,6.3,16.2,59,3.1,0,32.07\\n3,4,sep,fri,93.3,141.2,713.9,13.9,18.6,49,3.6,0,35.88\\n4,3,mar,mon,87.6,52.2,103.8,5,11,46,5.8,0,36.85\\n2,2,jul,fri,88.3,150.3,309.9,6.8,13.4,79,3.6,0,37.02\\n7,4,sep,wed,90.1,82.9,735.7,6.2,15.4,57,4.5,0,37.71\\n4,4,sep,sun,93.5,149.3,728.6,8.1,22.9,39,4.9,0,48.55\\n7,5,oct,mon,91.7,48.5,696.1,11.1,16.1,44,4,0,49.37\\n8,6,aug,sat,92.2,81.8,480.8,11.9,20.1,34,4.5,0,58.3\\n4,6,sep,sun,93.5,149.3,728.6,8.1,28.3,26,3.1,0,64.1\\n8,6,aug,sat,92.2,81.8,480.8,11.9,16.4,43,4,0,71.3\\n4,4,sep,wed,92.9,133.3,699.6,9.2,26.4,21,4.5,0,88.49\\n1,5,sep,sun,93.5,149.3,728.6,8.1,27.8,27,3.1,0,95.18\\n6,4,sep,tue,91,129.5,692.6,7,18.7,43,2.7,0,103.39\\n9,4,sep,tue,84.4,73.4,671.9,3.2,24.3,36,3.1,0,105.66\\n4,5,sep,sat,92.5,121.1,674.4,8.6,17.7,25,3.1,0,154.88\\n8,6,aug,sun,91.4,142.4,601.4,10.6,19.6,41,5.8,0,196.48\\n2,2,sep,sat,92.5,121.1,674.4,8.6,18.2,46,1.8,0,200.94\\n1,2,sep,tue,91,129.5,692.6,7,18.8,40,2.2,0,212.88\\n6,5,sep,sat,92.5,121.1,674.4,8.6,25.1,27,4,0,1090.84\\n7,5,apr,sun,81.9,3,7.9,3.5,13.4,75,1.8,0,0\\n6,3,apr,wed,88,17.2,43.5,3.8,15.2,51,2.7,0,0\\n4,4,apr,fri,83,23.3,85.3,2.3,16.7,20,3.1,0,0\\n2,4,aug,sun,94.2,122.3,589.9,12.9,15.4,66,4,0,10.13\\n7,4,aug,sun,91.8,175.1,700.7,13.8,21.9,73,7.6,1,0\\n2,4,aug,sun,91.8,175.1,700.7,13.8,22.4,54,7.6,0,2.87\\n3,4,aug,sun,91.8,175.1,700.7,13.8,26.8,38,6.3,0,0.76\\n5,4,aug,sun,91.8,175.1,700.7,13.8,25.7,39,5.4,0,0.09\\n2,4,aug,wed,92.2,91.6,503.6,9.6,20.7,70,2.2,0,0.75\\n8,6,aug,wed,93.1,157.3,666.7,13.5,28.7,28,2.7,0,0\\n3,4,aug,wed,93.1,157.3,666.7,13.5,21.7,40,0.4,0,2.47\\n8,5,aug,wed,93.1,157.3,666.7,13.5,26.8,25,3.1,0,0.68\\n8,5,aug,wed,93.1,157.3,666.7,13.5,24,36,3.1,0,0.24\\n6,5,aug,wed,93.1,157.3,666.7,13.5,22.1,37,3.6,0,0.21\\n7,4,aug,thu,91.9,109.2,565.5,8,21.4,38,2.7,0,1.52\\n6,3,aug,thu,91.6,138.1,621.7,6.3,18.9,41,3.1,0,10.34\\n2,5,aug,thu,87.5,77,694.8,5,22.3,46,4,0,0\\n8,6,aug,sat,94.2,117.2,581.1,11,23.9,41,2.2,0,8.02\\n4,3,aug,sat,94.2,117.2,581.1,11,21.4,44,2.7,0,0.68\\n3,4,aug,sat,91.8,170.9,692.3,13.7,20.6,59,0.9,0,0\\n7,4,aug,sat,91.8,170.9,692.3,13.7,23.7,40,1.8,0,1.38\\n2,4,aug,mon,93.6,97.9,542,14.4,28.3,32,4,0,8.85\\n3,4,aug,fri,91.6,112.4,573,8.9,11.2,84,7.6,0,3.3\\n2,4,aug,fri,91.6,112.4,573,8.9,21.4,42,3.1,0,4.25\\n6,3,aug,fri,91.1,141.1,629.1,7.1,19.3,39,3.6,0,1.56\\n4,4,aug,fri,94.3,167.6,684.4,13,21.8,53,3.1,0,6.54\\n4,4,aug,tue,93.7,102.2,550.3,14.6,22.1,54,7.6,0,0.79\\n6,5,aug,tue,94.3,131.7,607.1,22.7,19.4,55,4,0,0.17\\n2,2,aug,tue,92.1,152.6,658.2,14.3,23.7,24,3.1,0,0\\n3,4,aug,tue,92.1,152.6,658.2,14.3,21,32,3.1,0,0\\n4,4,aug,tue,92.1,152.6,658.2,14.3,19.1,53,2.7,0,4.4\\n2,2,aug,tue,92.1,152.6,658.2,14.3,21.8,56,3.1,0,0.52\\n8,6,aug,tue,92.1,152.6,658.2,14.3,20.1,58,4.5,0,9.27\\n2,5,aug,tue,92.1,152.6,658.2,14.3,20.2,47,4,0,3.09\\n4,6,dec,sun,84.4,27.2,353.5,6.8,4.8,57,8.5,0,8.98\\n8,6,dec,wed,84,27.8,354.6,5.3,5.1,61,8,0,11.19\\n4,6,dec,thu,84.6,26.4,352,2,5.1,61,4.9,0,5.38\\n4,4,dec,mon,85.4,25.4,349.7,2.6,4.6,21,8.5,0,17.85\\n3,4,dec,mon,85.4,25.4,349.7,2.6,4.6,21,8.5,0,10.73\\n4,4,dec,mon,85.4,25.4,349.7,2.6,4.6,21,8.5,0,22.03\\n4,4,dec,mon,85.4,25.4,349.7,2.6,4.6,21,8.5,0,9.77\\n4,6,dec,fri,84.7,26.7,352.6,4.1,2.2,59,4.9,0,9.27\\n6,5,dec,tue,85.4,25.4,349.7,2.6,5.1,24,8.5,0,24.77\\n6,3,feb,sun,84.9,27.5,353.5,3.4,4.2,51,4,0,0\\n3,4,feb,wed,86.9,6.6,18.7,3.2,8.8,35,3.1,0,1.1\\n5,4,feb,fri,85.2,4.9,15.8,6.3,7.5,46,8,0,24.24\\n2,5,jul,sun,93.9,169.7,411.8,12.3,23.4,40,6.3,0,0\\n7,6,jul,wed,91.2,183.1,437.7,12.5,12.6,90,7.6,0.2,0\\n7,4,jul,sat,91.6,104.2,474.9,9,22.1,49,2.7,0,0\\n7,4,jul,sat,91.6,104.2,474.9,9,24.2,32,1.8,0,0\\n7,4,jul,sat,91.6,104.2,474.9,9,24.3,30,1.8,0,0\\n2,5,jul,sat,91.6,104.2,474.9,9,18.7,53,1.8,0,0\\n9,4,jul,sat,91.6,104.2,474.9,9,25.3,39,0.9,0,8\\n4,5,jul,fri,91.6,100.2,466.3,6.3,22.9,40,1.3,0,2.64\\n7,6,jul,tue,93.1,180.4,430.8,11,26.9,28,5.4,0,86.45\\n8,6,jul,tue,92.3,88.8,440.9,8.5,17.1,67,3.6,0,6.57\\n7,5,jun,sun,93.1,180.4,430.8,11,22.2,48,1.3,0,0\\n6,4,jun,sun,90.4,89.5,290.8,6.4,14.3,46,1.8,0,0.9\\n8,6,jun,sun,90.4,89.5,290.8,6.4,15.4,45,2.2,0,0\\n8,6,jun,wed,91.2,147.8,377.2,12.7,19.6,43,4.9,0,0\\n6,5,jun,sat,53.4,71,233.8,0.4,10.6,90,2.7,0,0\\n6,5,jun,mon,90.4,93.3,298.1,7.5,20.7,25,4.9,0,0\\n6,5,jun,mon,90.4,93.3,298.1,7.5,19.1,39,5.4,0,3.52\\n3,6,jun,fri,91.1,94.1,232.1,7.1,19.2,38,4.5,0,0\\n3,6,jun,fri,91.1,94.1,232.1,7.1,19.2,38,4.5,0,0\\n6,5,may,sat,85.1,28,113.8,3.5,11.3,94,4.9,0,0\\n1,4,sep,sun,89.6,84.1,714.3,5.7,19,52,2.2,0,0\\n7,4,sep,sun,89.6,84.1,714.3,5.7,17.1,53,5.4,0,0.41\\n3,4,sep,sun,89.6,84.1,714.3,5.7,23.8,35,3.6,0,5.18\\n2,4,sep,sun,92.4,105.8,758.1,9.9,16,45,1.8,0,0\\n2,4,sep,sun,92.4,105.8,758.1,9.9,24.9,27,2.2,0,0\\n7,4,sep,sun,92.4,105.8,758.1,9.9,25.3,27,2.7,0,0\\n6,3,sep,sun,92.4,105.8,758.1,9.9,24.8,28,1.8,0,14.29\\n2,4,sep,sun,50.4,46.2,706.6,0.4,12.2,78,6.3,0,0\\n6,5,sep,wed,92.6,115.4,777.1,8.8,24.3,27,4.9,0,0\\n4,4,sep,wed,92.6,115.4,777.1,8.8,19.7,41,1.8,0,1.58\\n3,4,sep,wed,91.2,134.7,817.5,7.2,18.5,30,2.7,0,0\\n4,5,sep,thu,92.4,96.2,739.4,8.6,18.6,24,5.8,0,0\\n4,4,sep,thu,92.4,96.2,739.4,8.6,19.2,24,4.9,0,3.78\\n6,5,sep,thu,92.8,119,783.5,7.5,21.6,27,2.2,0,0\\n5,4,sep,thu,92.8,119,783.5,7.5,21.6,28,6.3,0,4.41\\n6,3,sep,thu,92.8,119,783.5,7.5,18.9,34,7.2,0,34.36\\n1,4,sep,thu,92.8,119,783.5,7.5,16.8,28,4,0,7.21\\n6,5,sep,thu,92.8,119,783.5,7.5,16.8,28,4,0,1.01\\n3,5,sep,thu,90.7,136.9,822.8,6.8,12.9,39,2.7,0,2.18\\n6,5,sep,thu,88.1,53.3,726.9,5.4,13.7,56,1.8,0,4.42\\n1,4,sep,sat,92.2,102.3,751.5,8.4,24.2,27,3.1,0,0\\n5,4,sep,sat,92.2,102.3,751.5,8.4,24.1,27,3.1,0,0\\n6,5,sep,sat,92.2,102.3,751.5,8.4,21.2,32,2.2,0,0\\n6,5,sep,sat,92.2,102.3,751.5,8.4,19.7,35,1.8,0,0\\n4,3,sep,sat,92.2,102.3,751.5,8.4,23.5,27,4,0,3.33\\n3,3,sep,sat,92.2,102.3,751.5,8.4,24.2,27,3.1,0,6.58\\n7,4,sep,sat,91.2,124.4,795.3,8.5,21.5,28,4.5,0,15.64\\n4,4,sep,sat,91.2,124.4,795.3,8.5,17.1,41,2.2,0,11.22\\n1,4,sep,mon,92.1,87.7,721.1,9.5,18.1,54,3.1,0,2.13\\n2,3,sep,mon,91.6,108.4,764,6.2,18,51,5.4,0,0\\n4,3,sep,mon,91.6,108.4,764,6.2,9.8,86,1.8,0,0\\n7,4,sep,mon,91.6,108.4,764,6.2,19.3,44,2.2,0,0\\n6,3,sep,mon,91.6,108.4,764,6.2,23,34,2.2,0,56.04\\n8,6,sep,mon,91.6,108.4,764,6.2,22.7,35,2.2,0,7.48\\n2,4,sep,mon,91.6,108.4,764,6.2,20.4,41,1.8,0,1.47\\n2,5,sep,mon,91.6,108.4,764,6.2,19.3,44,2.2,0,3.93\\n8,6,sep,mon,91.9,111.7,770.3,6.5,15.7,51,2.2,0,0\\n6,3,sep,mon,91.5,130.1,807.1,7.5,20.6,37,1.8,0,0\\n8,6,sep,mon,91.5,130.1,807.1,7.5,15.9,51,4.5,0,2.18\\n6,3,sep,mon,91.5,130.1,807.1,7.5,12.2,66,4.9,0,6.1\\n2,2,sep,mon,91.5,130.1,807.1,7.5,16.8,43,3.1,0,5.83\\n1,4,sep,mon,91.5,130.1,807.1,7.5,21.3,35,2.2,0,28.19\\n5,4,sep,fri,92.1,99,745.3,9.6,10.1,75,3.6,0,0\\n3,4,sep,fri,92.1,99,745.3,9.6,17.4,57,4.5,0,0\\n5,4,sep,fri,92.1,99,745.3,9.6,12.8,64,3.6,0,1.64\\n5,4,sep,fri,92.1,99,745.3,9.6,10.1,75,3.6,0,3.71\\n4,4,sep,fri,92.1,99,745.3,9.6,15.4,53,6.3,0,7.31\\n7,4,sep,fri,92.1,99,745.3,9.6,20.6,43,3.6,0,2.03\\n7,4,sep,fri,92.1,99,745.3,9.6,19.8,47,2.7,0,1.72\\n7,4,sep,fri,92.1,99,745.3,9.6,18.7,50,2.2,0,5.97\\n4,4,sep,fri,92.1,99,745.3,9.6,20.8,35,4.9,0,13.06\\n4,4,sep,fri,92.1,99,745.3,9.6,20.8,35,4.9,0,1.26\\n6,3,sep,fri,92.5,122,789.7,10.2,15.9,55,3.6,0,0\\n6,3,sep,fri,92.5,122,789.7,10.2,19.7,39,2.7,0,0\\n1,4,sep,fri,92.5,122,789.7,10.2,21.1,39,2.2,0,8.12\\n6,5,sep,fri,92.5,122,789.7,10.2,18.4,42,2.2,0,1.09\\n4,3,sep,fri,92.5,122,789.7,10.2,17.3,45,4,0,3.94\\n7,4,sep,fri,88.2,55.2,732.3,11.6,15.2,64,3.1,0,0.52\\n4,3,sep,tue,91.9,111.7,770.3,6.5,15.9,53,2.2,0,2.93\\n6,5,sep,tue,91.9,111.7,770.3,6.5,21.1,35,2.7,0,5.65\\n6,5,sep,tue,91.9,111.7,770.3,6.5,19.6,45,3.1,0,20.03\\n4,5,sep,tue,91.1,132.3,812.1,12.5,15.9,38,5.4,0,1.75\\n4,5,sep,tue,91.1,132.3,812.1,12.5,16.4,27,3.6,0,0\\n6,5,sep,sat,91.2,94.3,744.4,8.4,16.8,47,4.9,0,12.64\\n4,5,sep,sun,91,276.3,825.1,7.1,13.8,77,7.6,0,0\\n7,4,sep,sun,91,276.3,825.1,7.1,13.8,77,7.6,0,11.06\\n3,4,jul,wed,91.9,133.6,520.5,8,14.2,58,4,0,0\\n4,5,aug,sun,92,203.2,664.5,8.1,10.4,75,0.9,0,0\\n5,4,aug,thu,94.8,222.4,698.6,13.9,20.3,42,2.7,0,0\\n6,5,sep,fri,90.3,290,855.3,7.4,10.3,78,4,0,18.3\\n6,5,sep,sat,91.2,94.3,744.4,8.4,15.4,57,4.9,0,39.35\\n8,6,aug,mon,92.1,207,672.6,8.2,21.1,54,2.2,0,0\\n2,2,aug,sat,93.7,231.1,715.1,8.4,21.9,42,2.2,0,174.63\\n6,5,mar,thu,90.9,18.9,30.6,8,8.7,51,5.8,0,0\\n4,5,jan,sun,18.7,1.1,171.4,0,5.2,100,0.9,0,0\\n5,4,jul,wed,93.7,101.3,458.8,11.9,19.3,39,7.2,0,7.73\\n8,6,aug,thu,90.7,194.1,643,6.8,16.2,63,2.7,0,16.33\\n8,6,aug,wed,95.2,217.7,690,18,28.2,29,1.8,0,5.86\\n9,6,aug,thu,91.6,248.4,753.8,6.3,20.5,58,2.7,0,42.87\\n8,4,aug,sat,91.6,273.8,819.1,7.7,21.3,44,4.5,0,12.18\\n2,4,aug,sun,91.6,181.3,613,7.6,20.9,50,2.2,0,16\\n3,4,sep,sun,90.5,96.7,750.5,11.4,20.6,55,5.4,0,24.59\\n5,5,mar,thu,90.9,18.9,30.6,8,11.6,48,5.4,0,0\\n6,4,aug,fri,94.8,227,706.7,12,23.3,34,3.1,0,28.74\\n7,4,aug,fri,94.8,227,706.7,12,23.3,34,3.1,0,0\\n7,4,feb,mon,84.7,9.5,58.3,4.1,7.5,71,6.3,0,9.96\\n8,6,sep,fri,91.1,91.3,738.1,7.2,20.7,46,2.7,0,30.18\\n1,3,sep,sun,91,276.3,825.1,7.1,21.9,43,4,0,70.76\\n2,4,mar,tue,93.4,15,25.6,11.4,15.2,19,7.6,0,0\\n6,5,feb,mon,84.1,4.6,46.7,2.2,5.3,68,1.8,0,0\\n4,5,feb,sun,85,9,56.9,3.5,10.1,62,1.8,0,51.78\\n4,3,sep,sun,90.5,96.7,750.5,11.4,20.4,55,4.9,0,3.64\\n5,6,aug,sun,91.6,181.3,613,7.6,24.3,33,3.6,0,3.63\\n1,2,aug,sat,93.7,231.1,715.1,8.4,25.9,32,3.1,0,0\\n9,5,jun,wed,93.3,49.5,297.7,14,28,34,4.5,0,0\\n9,5,jun,wed,93.3,49.5,297.7,14,28,34,4.5,0,8.16\\n3,4,sep,thu,91.1,88.2,731.7,8.3,22.8,46,4,0,4.95\\n9,9,aug,fri,94.8,227,706.7,12,25,36,4,0,0\\n8,6,aug,thu,90.7,194.1,643,6.8,21.3,41,3.6,0,0\\n2,4,sep,wed,87.9,84.8,725.1,3.7,21.8,34,2.2,0,6.04\\n2,2,aug,tue,94.6,212.1,680.9,9.5,27.9,27,2.2,0,0\\n6,5,sep,sat,87.1,291.3,860.6,4,17,67,4.9,0,3.95\\n4,5,feb,sat,84.7,8.2,55,2.9,14.2,46,4,0,0\\n4,3,sep,fri,90.3,290,855.3,7.4,19.9,44,3.1,0,7.8\\n1,4,jul,tue,92.3,96.2,450.2,12.1,23.4,31,5.4,0,0\\n6,3,feb,fri,84.1,7.3,52.8,2.7,14.7,42,2.7,0,0\\n7,4,feb,fri,84.6,3.2,43.6,3.3,8.2,53,9.4,0,4.62\\n9,4,jul,mon,92.3,92.1,442.1,9.8,22.8,27,4.5,0,1.63\\n7,5,aug,sat,93.7,231.1,715.1,8.4,26.4,33,3.6,0,0\\n5,4,aug,sun,93.6,235.1,723.1,10.1,24.1,50,4,0,0\\n8,6,aug,thu,94.8,222.4,698.6,13.9,27.5,27,4.9,0,746.28\\n6,3,jul,tue,92.7,164.1,575.8,8.9,26.3,39,3.1,0,7.02\\n6,5,mar,wed,93.4,17.3,28.3,9.9,13.8,24,5.8,0,0\\n2,4,aug,sun,92,203.2,664.5,8.1,24.9,42,5.4,0,2.44\\n2,5,aug,sun,91.6,181.3,613,7.6,24.8,36,4,0,3.05\\n8,8,aug,wed,91.7,191.4,635.9,7.8,26.2,36,4.5,0,185.76\\n2,4,aug,wed,95.2,217.7,690,18,30.8,19,4.5,0,0\\n8,6,jul,sun,88.9,263.1,795.9,5.2,29.3,27,3.6,0,6.3\\n1,3,sep,sat,91.2,94.3,744.4,8.4,22.3,48,4,0,0.72\\n8,6,aug,sat,93.7,231.1,715.1,8.4,26.9,31,3.6,0,4.96\\n2,2,aug,thu,91.6,248.4,753.8,6.3,20.4,56,2.2,0,0\\n8,6,aug,thu,91.6,248.4,753.8,6.3,20.4,56,2.2,0,0\\n2,4,aug,mon,92.1,207,672.6,8.2,27.9,33,2.2,0,2.35\\n1,3,aug,thu,94.8,222.4,698.6,13.9,26.2,34,5.8,0,0\\n3,4,aug,sun,91.6,181.3,613,7.6,24.6,44,4,0,3.2\\n7,4,sep,thu,89.7,287.2,849.3,6.8,19.4,45,3.6,0,0\\n1,3,aug,sat,92.1,178,605.3,9.6,23.3,40,4,0,6.36\\n8,6,aug,thu,94.8,222.4,698.6,13.9,23.9,38,6.7,0,0\\n2,4,aug,sun,93.6,235.1,723.1,10.1,20.9,66,4.9,0,15.34\\n1,4,aug,fri,90.6,269.8,811.2,5.5,22.2,45,3.6,0,0\\n2,5,jul,sat,90.8,84.7,376.6,5.6,23.8,51,1.8,0,0\\n8,6,aug,mon,92.1,207,672.6,8.2,26.8,35,1.3,0,0.54\\n8,6,aug,sat,89.4,253.6,768.4,9.7,14.2,73,2.7,0,0\\n2,5,aug,sat,93.7,231.1,715.1,8.4,23.6,53,4,0,6.43\\n1,3,sep,fri,91.1,91.3,738.1,7.2,19.1,46,2.2,0,0.33\\n5,4,sep,fri,90.3,290,855.3,7.4,16.2,58,3.6,0,0\\n8,6,aug,mon,92.1,207,672.6,8.2,25.5,29,1.8,0,1.23\\n6,5,apr,mon,87.9,24.9,41.6,3.7,10.9,64,3.1,0,3.35\\n1,2,jul,fri,90.7,80.9,368.3,16.8,14.8,78,8,0,0\\n2,5,sep,fri,90.3,290,855.3,7.4,16.2,58,3.6,0,9.96\\n5,5,aug,sun,94,47.9,100.7,10.7,17.3,80,4.5,0,0\\n6,5,aug,sun,92,203.2,664.5,8.1,19.1,70,2.2,0,0\\n3,4,mar,wed,93.4,17.3,28.3,9.9,8.9,35,8,0,0\\n7,4,sep,wed,89.7,284.9,844,10.1,10.5,77,4,0,0\\n7,4,aug,sun,91.6,181.3,613,7.6,19.3,61,4.9,0,0\\n4,5,aug,wed,95.2,217.7,690,18,23.4,49,5.4,0,6.43\\n1,4,aug,fri,90.5,196.8,649.9,16.3,11.8,88,4.9,0,9.71\\n7,4,aug,mon,91.5,238.2,730.6,7.5,17.7,65,4,0,0\\n4,5,aug,thu,89.4,266.2,803.3,5.6,17.4,54,3.1,0,0\\n3,4,aug,thu,91.6,248.4,753.8,6.3,16.8,56,3.1,0,0\\n3,4,jul,mon,94.6,160,567.2,16.7,17.9,48,2.7,0,0\\n2,4,aug,thu,91.6,248.4,753.8,6.3,16.6,59,2.7,0,0\\n1,4,aug,wed,91.7,191.4,635.9,7.8,19.9,50,4,0,82.75\\n8,6,aug,sat,93.7,231.1,715.1,8.4,18.9,64,4.9,0,3.32\\n7,4,aug,sat,91.6,273.8,819.1,7.7,15.5,72,8,0,1.94\\n2,5,aug,sat,93.7,231.1,715.1,8.4,18.9,64,4.9,0,0\\n8,6,aug,sat,93.7,231.1,715.1,8.4,18.9,64,4.9,0,0\\n1,4,sep,sun,91,276.3,825.1,7.1,14.5,76,7.6,0,3.71\\n6,5,feb,tue,75.1,4.4,16.2,1.9,4.6,82,6.3,0,5.39\\n6,4,feb,tue,75.1,4.4,16.2,1.9,5.1,77,5.4,0,2.14\\n2,2,feb,sat,79.5,3.6,15.3,1.8,4.6,59,0.9,0,6.84\\n6,5,mar,mon,87.2,15.1,36.9,7.1,10.2,45,5.8,0,3.18\\n3,4,mar,wed,90.2,18.5,41.1,7.3,11.2,41,5.4,0,5.55\\n6,5,mar,thu,91.3,20.6,43.5,8.5,13.3,27,3.6,0,6.61\\n6,3,apr,sun,91,14.6,25.6,12.3,13.7,33,9.4,0,61.13\\n5,4,apr,sun,91,14.6,25.6,12.3,17.6,27,5.8,0,0\\n4,3,may,fri,89.6,25.4,73.7,5.7,18,40,4,0,38.48\\n8,3,jun,mon,88.2,96.2,229,4.7,14.3,79,4,0,1.94\\n9,4,jun,sat,90.5,61.1,252.6,9.4,24.5,50,3.1,0,70.32\\n4,3,jun,thu,93,103.8,316.7,10.8,26.4,35,2.7,0,10.08\\n2,5,jun,thu,93.7,121.7,350.2,18,22.7,40,9.4,0,3.19\\n4,3,jul,thu,93.5,85.3,395,9.9,27.2,28,1.3,0,1.76\\n4,3,jul,sun,93.7,101.3,423.4,14.7,26.1,45,4,0,7.36\\n7,4,jul,sun,93.7,101.3,423.4,14.7,18.2,82,4.5,0,2.21\\n7,4,jul,mon,89.2,103.9,431.6,6.4,22.6,57,4.9,0,278.53\\n9,9,jul,thu,93.2,114.4,560,9.5,30.2,25,4.5,0,2.75\\n4,3,jul,thu,93.2,114.4,560,9.5,30.2,22,4.9,0,0\\n3,4,aug,sun,94.9,130.3,587.1,14.1,23.4,40,5.8,0,1.29\\n8,6,aug,sun,94.9,130.3,587.1,14.1,31,27,5.4,0,0\\n2,5,aug,sun,94.9,130.3,587.1,14.1,33.1,25,4,0,26.43\\n2,4,aug,mon,95,135.5,596.3,21.3,30.6,28,3.6,0,2.07\\n5,4,aug,tue,95.1,141.3,605.8,17.7,24.1,43,6.3,0,2\\n5,4,aug,tue,95.1,141.3,605.8,17.7,26.4,34,3.6,0,16.4\\n4,4,aug,tue,95.1,141.3,605.8,17.7,19.4,71,7.6,0,46.7\\n4,4,aug,wed,95.1,141.3,605.8,17.7,20.6,58,1.3,0,0\\n4,4,aug,wed,95.1,141.3,605.8,17.7,28.7,33,4,0,0\\n4,4,aug,thu,95.8,152,624.1,13.8,32.4,21,4.5,0,0\\n1,3,aug,fri,95.9,158,633.6,11.3,32.4,27,2.2,0,0\\n1,3,aug,fri,95.9,158,633.6,11.3,27.5,29,4.5,0,43.32\\n6,6,aug,sat,96,164,643,14,30.8,30,4.9,0,8.59\\n6,6,aug,mon,96.2,175.5,661.8,16.8,23.9,42,2.2,0,0\\n4,5,aug,mon,96.2,175.5,661.8,16.8,32.6,26,3.1,0,2.77\\n3,4,aug,tue,96.1,181.1,671.2,14.3,32.3,27,2.2,0,14.68\\n6,5,aug,tue,96.1,181.1,671.2,14.3,33.3,26,2.7,0,40.54\\n7,5,aug,tue,96.1,181.1,671.2,14.3,27.3,63,4.9,6.4,10.82\\n8,6,aug,tue,96.1,181.1,671.2,14.3,21.6,65,4.9,0.8,0\\n7,5,aug,tue,96.1,181.1,671.2,14.3,21.6,65,4.9,0.8,0\\n4,4,aug,tue,96.1,181.1,671.2,14.3,20.7,69,4.9,0.4,0\\n2,4,aug,wed,94.5,139.4,689.1,20,29.2,30,4.9,0,1.95\\n4,3,aug,wed,94.5,139.4,689.1,20,28.9,29,4.9,0,49.59\\n1,2,aug,thu,91,163.2,744.4,10.1,26.7,35,1.8,0,5.8\\n1,2,aug,fri,91,166.9,752.6,7.1,18.5,73,8.5,0,0\\n2,4,aug,fri,91,166.9,752.6,7.1,25.9,41,3.6,0,0\\n1,2,aug,fri,91,166.9,752.6,7.1,25.9,41,3.6,0,0\\n5,4,aug,fri,91,166.9,752.6,7.1,21.1,71,7.6,1.4,2.17\\n6,5,aug,fri,91,166.9,752.6,7.1,18.2,62,5.4,0,0.43\\n8,6,aug,sun,81.6,56.7,665.6,1.9,27.8,35,2.7,0,0\\n4,3,aug,sun,81.6,56.7,665.6,1.9,27.8,32,2.7,0,6.44\\n2,4,aug,sun,81.6,56.7,665.6,1.9,21.9,71,5.8,0,54.29\\n7,4,aug,sun,81.6,56.7,665.6,1.9,21.2,70,6.7,0,11.16\\n1,4,aug,sat,94.4,146,614.7,11.3,25.6,42,4,0,0\\n6,3,nov,tue,79.5,3,106.7,1.1,11.8,31,4.5,0,0\\n'}"
            ]
          },
          "metadata": {
            "tags": []
          },
          "execution_count": 55
        }
      ]
    },
    {
      "cell_type": "code",
      "metadata": {
        "id": "R9Yg7A3B-6-5",
        "colab_type": "code",
        "outputId": "144d08cb-97e3-460f-c411-cb93c16d867c",
        "colab": {
          "base_uri": "https://localhost:8080/",
          "height": 260
        }
      },
      "source": [
        "df1 = pd.read_csv('forestfires.csv')\n",
        "print(df1)\n",
        "#headers look correct"
      ],
      "execution_count": 0,
      "outputs": [
        {
          "output_type": "stream",
          "text": [
            "     X  Y month  day  FFMC    DMC     DC   ISI  temp  RH  wind  rain   area\n",
            "0    7  5   mar  fri  86.2   26.2   94.3   5.1   8.2  51   6.7   0.0   0.00\n",
            "1    7  4   oct  tue  90.6   35.4  669.1   6.7  18.0  33   0.9   0.0   0.00\n",
            "2    7  4   oct  sat  90.6   43.7  686.9   6.7  14.6  33   1.3   0.0   0.00\n",
            "3    8  6   mar  fri  91.7   33.3   77.5   9.0   8.3  97   4.0   0.2   0.00\n",
            "4    8  6   mar  sun  89.3   51.3  102.2   9.6  11.4  99   1.8   0.0   0.00\n",
            "..  .. ..   ...  ...   ...    ...    ...   ...   ...  ..   ...   ...    ...\n",
            "512  4  3   aug  sun  81.6   56.7  665.6   1.9  27.8  32   2.7   0.0   6.44\n",
            "513  2  4   aug  sun  81.6   56.7  665.6   1.9  21.9  71   5.8   0.0  54.29\n",
            "514  7  4   aug  sun  81.6   56.7  665.6   1.9  21.2  70   6.7   0.0  11.16\n",
            "515  1  4   aug  sat  94.4  146.0  614.7  11.3  25.6  42   4.0   0.0   0.00\n",
            "516  6  3   nov  tue  79.5    3.0  106.7   1.1  11.8  31   4.5   0.0   0.00\n",
            "\n",
            "[517 rows x 13 columns]\n"
          ],
          "name": "stdout"
        }
      ]
    },
    {
      "cell_type": "code",
      "metadata": {
        "id": "HGNJI1krB2dx",
        "colab_type": "code",
        "outputId": "5c748a59-b431-45ab-f67f-887352d7e81f",
        "colab": {
          "base_uri": "https://localhost:8080/",
          "height": 225
        }
      },
      "source": [
        "print(df1.head())\n",
        "print(df1.tail())\n",
        "#The first and the last rows seem to be in order"
      ],
      "execution_count": 0,
      "outputs": [
        {
          "output_type": "stream",
          "text": [
            "   X  Y month  day  FFMC   DMC     DC  ISI  temp  RH  wind  rain  area\n",
            "0  7  5   mar  fri  86.2  26.2   94.3  5.1   8.2  51   6.7   0.0   0.0\n",
            "1  7  4   oct  tue  90.6  35.4  669.1  6.7  18.0  33   0.9   0.0   0.0\n",
            "2  7  4   oct  sat  90.6  43.7  686.9  6.7  14.6  33   1.3   0.0   0.0\n",
            "3  8  6   mar  fri  91.7  33.3   77.5  9.0   8.3  97   4.0   0.2   0.0\n",
            "4  8  6   mar  sun  89.3  51.3  102.2  9.6  11.4  99   1.8   0.0   0.0\n",
            "     X  Y month  day  FFMC    DMC     DC   ISI  temp  RH  wind  rain   area\n",
            "512  4  3   aug  sun  81.6   56.7  665.6   1.9  27.8  32   2.7   0.0   6.44\n",
            "513  2  4   aug  sun  81.6   56.7  665.6   1.9  21.9  71   5.8   0.0  54.29\n",
            "514  7  4   aug  sun  81.6   56.7  665.6   1.9  21.2  70   6.7   0.0  11.16\n",
            "515  1  4   aug  sat  94.4  146.0  614.7  11.3  25.6  42   4.0   0.0   0.00\n",
            "516  6  3   nov  tue  79.5    3.0  106.7   1.1  11.8  31   4.5   0.0   0.00\n"
          ],
          "name": "stdout"
        }
      ]
    },
    {
      "cell_type": "code",
      "metadata": {
        "id": "4HDGdtwrCG7c",
        "colab_type": "code",
        "outputId": "95b6616b-226d-4483-d3d1-b58148c633cf",
        "colab": {
          "base_uri": "https://localhost:8080/",
          "height": 34
        }
      },
      "source": [
        "df1.shape"
      ],
      "execution_count": 0,
      "outputs": [
        {
          "output_type": "execute_result",
          "data": {
            "text/plain": [
              "(517, 13)"
            ]
          },
          "metadata": {
            "tags": []
          },
          "execution_count": 61
        }
      ]
    },
    {
      "cell_type": "markdown",
      "metadata": {
        "id": "0M_khPVWCS2G",
        "colab_type": "text"
      },
      "source": [
        "Acording to UCI file, there are 517 instances and 13 attributes, which is correct"
      ]
    },
    {
      "cell_type": "code",
      "metadata": {
        "id": "-GS7z1yVCkRe",
        "colab_type": "code",
        "outputId": "84d37afd-ca7e-40bf-f652-9a2bd71c5975",
        "colab": {
          "base_uri": "https://localhost:8080/",
          "height": 416
        }
      },
      "source": [
        "df1.isnull()"
      ],
      "execution_count": 0,
      "outputs": [
        {
          "output_type": "execute_result",
          "data": {
            "text/html": [
              "<div>\n",
              "<style scoped>\n",
              "    .dataframe tbody tr th:only-of-type {\n",
              "        vertical-align: middle;\n",
              "    }\n",
              "\n",
              "    .dataframe tbody tr th {\n",
              "        vertical-align: top;\n",
              "    }\n",
              "\n",
              "    .dataframe thead th {\n",
              "        text-align: right;\n",
              "    }\n",
              "</style>\n",
              "<table border=\"1\" class=\"dataframe\">\n",
              "  <thead>\n",
              "    <tr style=\"text-align: right;\">\n",
              "      <th></th>\n",
              "      <th>X</th>\n",
              "      <th>Y</th>\n",
              "      <th>month</th>\n",
              "      <th>day</th>\n",
              "      <th>FFMC</th>\n",
              "      <th>DMC</th>\n",
              "      <th>DC</th>\n",
              "      <th>ISI</th>\n",
              "      <th>temp</th>\n",
              "      <th>RH</th>\n",
              "      <th>wind</th>\n",
              "      <th>rain</th>\n",
              "      <th>area</th>\n",
              "    </tr>\n",
              "  </thead>\n",
              "  <tbody>\n",
              "    <tr>\n",
              "      <th>0</th>\n",
              "      <td>False</td>\n",
              "      <td>False</td>\n",
              "      <td>False</td>\n",
              "      <td>False</td>\n",
              "      <td>False</td>\n",
              "      <td>False</td>\n",
              "      <td>False</td>\n",
              "      <td>False</td>\n",
              "      <td>False</td>\n",
              "      <td>False</td>\n",
              "      <td>False</td>\n",
              "      <td>False</td>\n",
              "      <td>False</td>\n",
              "    </tr>\n",
              "    <tr>\n",
              "      <th>1</th>\n",
              "      <td>False</td>\n",
              "      <td>False</td>\n",
              "      <td>False</td>\n",
              "      <td>False</td>\n",
              "      <td>False</td>\n",
              "      <td>False</td>\n",
              "      <td>False</td>\n",
              "      <td>False</td>\n",
              "      <td>False</td>\n",
              "      <td>False</td>\n",
              "      <td>False</td>\n",
              "      <td>False</td>\n",
              "      <td>False</td>\n",
              "    </tr>\n",
              "    <tr>\n",
              "      <th>2</th>\n",
              "      <td>False</td>\n",
              "      <td>False</td>\n",
              "      <td>False</td>\n",
              "      <td>False</td>\n",
              "      <td>False</td>\n",
              "      <td>False</td>\n",
              "      <td>False</td>\n",
              "      <td>False</td>\n",
              "      <td>False</td>\n",
              "      <td>False</td>\n",
              "      <td>False</td>\n",
              "      <td>False</td>\n",
              "      <td>False</td>\n",
              "    </tr>\n",
              "    <tr>\n",
              "      <th>3</th>\n",
              "      <td>False</td>\n",
              "      <td>False</td>\n",
              "      <td>False</td>\n",
              "      <td>False</td>\n",
              "      <td>False</td>\n",
              "      <td>False</td>\n",
              "      <td>False</td>\n",
              "      <td>False</td>\n",
              "      <td>False</td>\n",
              "      <td>False</td>\n",
              "      <td>False</td>\n",
              "      <td>False</td>\n",
              "      <td>False</td>\n",
              "    </tr>\n",
              "    <tr>\n",
              "      <th>4</th>\n",
              "      <td>False</td>\n",
              "      <td>False</td>\n",
              "      <td>False</td>\n",
              "      <td>False</td>\n",
              "      <td>False</td>\n",
              "      <td>False</td>\n",
              "      <td>False</td>\n",
              "      <td>False</td>\n",
              "      <td>False</td>\n",
              "      <td>False</td>\n",
              "      <td>False</td>\n",
              "      <td>False</td>\n",
              "      <td>False</td>\n",
              "    </tr>\n",
              "    <tr>\n",
              "      <th>...</th>\n",
              "      <td>...</td>\n",
              "      <td>...</td>\n",
              "      <td>...</td>\n",
              "      <td>...</td>\n",
              "      <td>...</td>\n",
              "      <td>...</td>\n",
              "      <td>...</td>\n",
              "      <td>...</td>\n",
              "      <td>...</td>\n",
              "      <td>...</td>\n",
              "      <td>...</td>\n",
              "      <td>...</td>\n",
              "      <td>...</td>\n",
              "    </tr>\n",
              "    <tr>\n",
              "      <th>512</th>\n",
              "      <td>False</td>\n",
              "      <td>False</td>\n",
              "      <td>False</td>\n",
              "      <td>False</td>\n",
              "      <td>False</td>\n",
              "      <td>False</td>\n",
              "      <td>False</td>\n",
              "      <td>False</td>\n",
              "      <td>False</td>\n",
              "      <td>False</td>\n",
              "      <td>False</td>\n",
              "      <td>False</td>\n",
              "      <td>False</td>\n",
              "    </tr>\n",
              "    <tr>\n",
              "      <th>513</th>\n",
              "      <td>False</td>\n",
              "      <td>False</td>\n",
              "      <td>False</td>\n",
              "      <td>False</td>\n",
              "      <td>False</td>\n",
              "      <td>False</td>\n",
              "      <td>False</td>\n",
              "      <td>False</td>\n",
              "      <td>False</td>\n",
              "      <td>False</td>\n",
              "      <td>False</td>\n",
              "      <td>False</td>\n",
              "      <td>False</td>\n",
              "    </tr>\n",
              "    <tr>\n",
              "      <th>514</th>\n",
              "      <td>False</td>\n",
              "      <td>False</td>\n",
              "      <td>False</td>\n",
              "      <td>False</td>\n",
              "      <td>False</td>\n",
              "      <td>False</td>\n",
              "      <td>False</td>\n",
              "      <td>False</td>\n",
              "      <td>False</td>\n",
              "      <td>False</td>\n",
              "      <td>False</td>\n",
              "      <td>False</td>\n",
              "      <td>False</td>\n",
              "    </tr>\n",
              "    <tr>\n",
              "      <th>515</th>\n",
              "      <td>False</td>\n",
              "      <td>False</td>\n",
              "      <td>False</td>\n",
              "      <td>False</td>\n",
              "      <td>False</td>\n",
              "      <td>False</td>\n",
              "      <td>False</td>\n",
              "      <td>False</td>\n",
              "      <td>False</td>\n",
              "      <td>False</td>\n",
              "      <td>False</td>\n",
              "      <td>False</td>\n",
              "      <td>False</td>\n",
              "    </tr>\n",
              "    <tr>\n",
              "      <th>516</th>\n",
              "      <td>False</td>\n",
              "      <td>False</td>\n",
              "      <td>False</td>\n",
              "      <td>False</td>\n",
              "      <td>False</td>\n",
              "      <td>False</td>\n",
              "      <td>False</td>\n",
              "      <td>False</td>\n",
              "      <td>False</td>\n",
              "      <td>False</td>\n",
              "      <td>False</td>\n",
              "      <td>False</td>\n",
              "      <td>False</td>\n",
              "    </tr>\n",
              "  </tbody>\n",
              "</table>\n",
              "<p>517 rows × 13 columns</p>\n",
              "</div>"
            ],
            "text/plain": [
              "         X      Y  month    day   FFMC  ...   temp     RH   wind   rain   area\n",
              "0    False  False  False  False  False  ...  False  False  False  False  False\n",
              "1    False  False  False  False  False  ...  False  False  False  False  False\n",
              "2    False  False  False  False  False  ...  False  False  False  False  False\n",
              "3    False  False  False  False  False  ...  False  False  False  False  False\n",
              "4    False  False  False  False  False  ...  False  False  False  False  False\n",
              "..     ...    ...    ...    ...    ...  ...    ...    ...    ...    ...    ...\n",
              "512  False  False  False  False  False  ...  False  False  False  False  False\n",
              "513  False  False  False  False  False  ...  False  False  False  False  False\n",
              "514  False  False  False  False  False  ...  False  False  False  False  False\n",
              "515  False  False  False  False  False  ...  False  False  False  False  False\n",
              "516  False  False  False  False  False  ...  False  False  False  False  False\n",
              "\n",
              "[517 rows x 13 columns]"
            ]
          },
          "metadata": {
            "tags": []
          },
          "execution_count": 62
        }
      ]
    },
    {
      "cell_type": "code",
      "metadata": {
        "id": "kjzUhzUzCpbZ",
        "colab_type": "code",
        "outputId": "771a71bd-e9ac-4673-c454-8c45e9283c55",
        "colab": {
          "base_uri": "https://localhost:8080/",
          "height": 260
        }
      },
      "source": [
        "df1.isnull().sum()"
      ],
      "execution_count": 0,
      "outputs": [
        {
          "output_type": "execute_result",
          "data": {
            "text/plain": [
              "X        0\n",
              "Y        0\n",
              "month    0\n",
              "day      0\n",
              "FFMC     0\n",
              "DMC      0\n",
              "DC       0\n",
              "ISI      0\n",
              "temp     0\n",
              "RH       0\n",
              "wind     0\n",
              "rain     0\n",
              "area     0\n",
              "dtype: int64"
            ]
          },
          "metadata": {
            "tags": []
          },
          "execution_count": 63
        }
      ]
    },
    {
      "cell_type": "code",
      "metadata": {
        "id": "pkZFv0hhCtHR",
        "colab_type": "code",
        "outputId": "801d4191-ab09-4556-89e7-61c7eb5fc1dc",
        "colab": {
          "base_uri": "https://localhost:8080/",
          "height": 294
        }
      },
      "source": [
        "df1.describe()"
      ],
      "execution_count": 0,
      "outputs": [
        {
          "output_type": "execute_result",
          "data": {
            "text/html": [
              "<div>\n",
              "<style scoped>\n",
              "    .dataframe tbody tr th:only-of-type {\n",
              "        vertical-align: middle;\n",
              "    }\n",
              "\n",
              "    .dataframe tbody tr th {\n",
              "        vertical-align: top;\n",
              "    }\n",
              "\n",
              "    .dataframe thead th {\n",
              "        text-align: right;\n",
              "    }\n",
              "</style>\n",
              "<table border=\"1\" class=\"dataframe\">\n",
              "  <thead>\n",
              "    <tr style=\"text-align: right;\">\n",
              "      <th></th>\n",
              "      <th>X</th>\n",
              "      <th>Y</th>\n",
              "      <th>FFMC</th>\n",
              "      <th>DMC</th>\n",
              "      <th>DC</th>\n",
              "      <th>ISI</th>\n",
              "      <th>temp</th>\n",
              "      <th>RH</th>\n",
              "      <th>wind</th>\n",
              "      <th>rain</th>\n",
              "      <th>area</th>\n",
              "    </tr>\n",
              "  </thead>\n",
              "  <tbody>\n",
              "    <tr>\n",
              "      <th>count</th>\n",
              "      <td>517.000000</td>\n",
              "      <td>517.000000</td>\n",
              "      <td>517.000000</td>\n",
              "      <td>517.000000</td>\n",
              "      <td>517.000000</td>\n",
              "      <td>517.000000</td>\n",
              "      <td>517.000000</td>\n",
              "      <td>517.000000</td>\n",
              "      <td>517.000000</td>\n",
              "      <td>517.000000</td>\n",
              "      <td>517.000000</td>\n",
              "    </tr>\n",
              "    <tr>\n",
              "      <th>mean</th>\n",
              "      <td>4.669246</td>\n",
              "      <td>4.299807</td>\n",
              "      <td>90.644681</td>\n",
              "      <td>110.872340</td>\n",
              "      <td>547.940039</td>\n",
              "      <td>9.021663</td>\n",
              "      <td>18.889168</td>\n",
              "      <td>44.288201</td>\n",
              "      <td>4.017602</td>\n",
              "      <td>0.021663</td>\n",
              "      <td>12.847292</td>\n",
              "    </tr>\n",
              "    <tr>\n",
              "      <th>std</th>\n",
              "      <td>2.313778</td>\n",
              "      <td>1.229900</td>\n",
              "      <td>5.520111</td>\n",
              "      <td>64.046482</td>\n",
              "      <td>248.066192</td>\n",
              "      <td>4.559477</td>\n",
              "      <td>5.806625</td>\n",
              "      <td>16.317469</td>\n",
              "      <td>1.791653</td>\n",
              "      <td>0.295959</td>\n",
              "      <td>63.655818</td>\n",
              "    </tr>\n",
              "    <tr>\n",
              "      <th>min</th>\n",
              "      <td>1.000000</td>\n",
              "      <td>2.000000</td>\n",
              "      <td>18.700000</td>\n",
              "      <td>1.100000</td>\n",
              "      <td>7.900000</td>\n",
              "      <td>0.000000</td>\n",
              "      <td>2.200000</td>\n",
              "      <td>15.000000</td>\n",
              "      <td>0.400000</td>\n",
              "      <td>0.000000</td>\n",
              "      <td>0.000000</td>\n",
              "    </tr>\n",
              "    <tr>\n",
              "      <th>25%</th>\n",
              "      <td>3.000000</td>\n",
              "      <td>4.000000</td>\n",
              "      <td>90.200000</td>\n",
              "      <td>68.600000</td>\n",
              "      <td>437.700000</td>\n",
              "      <td>6.500000</td>\n",
              "      <td>15.500000</td>\n",
              "      <td>33.000000</td>\n",
              "      <td>2.700000</td>\n",
              "      <td>0.000000</td>\n",
              "      <td>0.000000</td>\n",
              "    </tr>\n",
              "    <tr>\n",
              "      <th>50%</th>\n",
              "      <td>4.000000</td>\n",
              "      <td>4.000000</td>\n",
              "      <td>91.600000</td>\n",
              "      <td>108.300000</td>\n",
              "      <td>664.200000</td>\n",
              "      <td>8.400000</td>\n",
              "      <td>19.300000</td>\n",
              "      <td>42.000000</td>\n",
              "      <td>4.000000</td>\n",
              "      <td>0.000000</td>\n",
              "      <td>0.520000</td>\n",
              "    </tr>\n",
              "    <tr>\n",
              "      <th>75%</th>\n",
              "      <td>7.000000</td>\n",
              "      <td>5.000000</td>\n",
              "      <td>92.900000</td>\n",
              "      <td>142.400000</td>\n",
              "      <td>713.900000</td>\n",
              "      <td>10.800000</td>\n",
              "      <td>22.800000</td>\n",
              "      <td>53.000000</td>\n",
              "      <td>4.900000</td>\n",
              "      <td>0.000000</td>\n",
              "      <td>6.570000</td>\n",
              "    </tr>\n",
              "    <tr>\n",
              "      <th>max</th>\n",
              "      <td>9.000000</td>\n",
              "      <td>9.000000</td>\n",
              "      <td>96.200000</td>\n",
              "      <td>291.300000</td>\n",
              "      <td>860.600000</td>\n",
              "      <td>56.100000</td>\n",
              "      <td>33.300000</td>\n",
              "      <td>100.000000</td>\n",
              "      <td>9.400000</td>\n",
              "      <td>6.400000</td>\n",
              "      <td>1090.840000</td>\n",
              "    </tr>\n",
              "  </tbody>\n",
              "</table>\n",
              "</div>"
            ],
            "text/plain": [
              "                X           Y        FFMC  ...        wind        rain         area\n",
              "count  517.000000  517.000000  517.000000  ...  517.000000  517.000000   517.000000\n",
              "mean     4.669246    4.299807   90.644681  ...    4.017602    0.021663    12.847292\n",
              "std      2.313778    1.229900    5.520111  ...    1.791653    0.295959    63.655818\n",
              "min      1.000000    2.000000   18.700000  ...    0.400000    0.000000     0.000000\n",
              "25%      3.000000    4.000000   90.200000  ...    2.700000    0.000000     0.000000\n",
              "50%      4.000000    4.000000   91.600000  ...    4.000000    0.000000     0.520000\n",
              "75%      7.000000    5.000000   92.900000  ...    4.900000    0.000000     6.570000\n",
              "max      9.000000    9.000000   96.200000  ...    9.400000    6.400000  1090.840000\n",
              "\n",
              "[8 rows x 11 columns]"
            ]
          },
          "metadata": {
            "tags": []
          },
          "execution_count": 64
        }
      ]
    },
    {
      "cell_type": "markdown",
      "metadata": {
        "id": "mq_aQjxlM-u5",
        "colab_type": "text"
      },
      "source": [
        "## 3) Make Crosstabs of the Categorical Variables\n",
        "\n",
        "Take whichever of the above datasets has more categorical variables and use crosstabs to tabulate the different instances of the categorical variables.\n"
      ]
    },
    {
      "cell_type": "code",
      "metadata": {
        "id": "LLvj-fqW-56P",
        "colab_type": "code",
        "outputId": "40e5dee4-a2e8-4628-f078-82f0e2bea7d7",
        "colab": {
          "base_uri": "https://localhost:8080/",
          "height": 433
        }
      },
      "source": [
        "print(df.dtypes)\n",
        "print(df1.dtypes)"
      ],
      "execution_count": 0,
      "outputs": [
        {
          "output_type": "stream",
          "text": [
            "Sex                object\n",
            "Length            float64\n",
            "Diameter          float64\n",
            "Height            float64\n",
            "Whole weight      float64\n",
            "Shucked weight    float64\n",
            "Viscera weight    float64\n",
            "Shell weight      float64\n",
            "Rings               int64\n",
            "dtype: object\n",
            "X          int64\n",
            "Y          int64\n",
            "month     object\n",
            "day       object\n",
            "FFMC     float64\n",
            "DMC      float64\n",
            "DC       float64\n",
            "ISI      float64\n",
            "temp     float64\n",
            "RH         int64\n",
            "wind     float64\n",
            "rain     float64\n",
            "area     float64\n",
            "dtype: object\n"
          ],
          "name": "stdout"
        }
      ]
    },
    {
      "cell_type": "code",
      "metadata": {
        "id": "9-n9-LTM-18p",
        "colab_type": "code",
        "outputId": "ddee8493-f5d2-44a3-a944-b1bbc99b9782",
        "colab": {
          "base_uri": "https://localhost:8080/",
          "height": 448
        }
      },
      "source": [
        "pd.crosstab(df1['month'], df1['day'])\n"
      ],
      "execution_count": 0,
      "outputs": [
        {
          "output_type": "execute_result",
          "data": {
            "text/html": [
              "<div>\n",
              "<style scoped>\n",
              "    .dataframe tbody tr th:only-of-type {\n",
              "        vertical-align: middle;\n",
              "    }\n",
              "\n",
              "    .dataframe tbody tr th {\n",
              "        vertical-align: top;\n",
              "    }\n",
              "\n",
              "    .dataframe thead th {\n",
              "        text-align: right;\n",
              "    }\n",
              "</style>\n",
              "<table border=\"1\" class=\"dataframe\">\n",
              "  <thead>\n",
              "    <tr style=\"text-align: right;\">\n",
              "      <th>day</th>\n",
              "      <th>fri</th>\n",
              "      <th>mon</th>\n",
              "      <th>sat</th>\n",
              "      <th>sun</th>\n",
              "      <th>thu</th>\n",
              "      <th>tue</th>\n",
              "      <th>wed</th>\n",
              "    </tr>\n",
              "    <tr>\n",
              "      <th>month</th>\n",
              "      <th></th>\n",
              "      <th></th>\n",
              "      <th></th>\n",
              "      <th></th>\n",
              "      <th></th>\n",
              "      <th></th>\n",
              "      <th></th>\n",
              "    </tr>\n",
              "  </thead>\n",
              "  <tbody>\n",
              "    <tr>\n",
              "      <th>apr</th>\n",
              "      <td>1</td>\n",
              "      <td>1</td>\n",
              "      <td>1</td>\n",
              "      <td>3</td>\n",
              "      <td>2</td>\n",
              "      <td>0</td>\n",
              "      <td>1</td>\n",
              "    </tr>\n",
              "    <tr>\n",
              "      <th>aug</th>\n",
              "      <td>21</td>\n",
              "      <td>15</td>\n",
              "      <td>29</td>\n",
              "      <td>40</td>\n",
              "      <td>26</td>\n",
              "      <td>28</td>\n",
              "      <td>25</td>\n",
              "    </tr>\n",
              "    <tr>\n",
              "      <th>dec</th>\n",
              "      <td>1</td>\n",
              "      <td>4</td>\n",
              "      <td>0</td>\n",
              "      <td>1</td>\n",
              "      <td>1</td>\n",
              "      <td>1</td>\n",
              "      <td>1</td>\n",
              "    </tr>\n",
              "    <tr>\n",
              "      <th>feb</th>\n",
              "      <td>5</td>\n",
              "      <td>3</td>\n",
              "      <td>4</td>\n",
              "      <td>4</td>\n",
              "      <td>1</td>\n",
              "      <td>2</td>\n",
              "      <td>1</td>\n",
              "    </tr>\n",
              "    <tr>\n",
              "      <th>jan</th>\n",
              "      <td>0</td>\n",
              "      <td>0</td>\n",
              "      <td>1</td>\n",
              "      <td>1</td>\n",
              "      <td>0</td>\n",
              "      <td>0</td>\n",
              "      <td>0</td>\n",
              "    </tr>\n",
              "    <tr>\n",
              "      <th>jul</th>\n",
              "      <td>3</td>\n",
              "      <td>4</td>\n",
              "      <td>8</td>\n",
              "      <td>5</td>\n",
              "      <td>3</td>\n",
              "      <td>6</td>\n",
              "      <td>3</td>\n",
              "    </tr>\n",
              "    <tr>\n",
              "      <th>jun</th>\n",
              "      <td>3</td>\n",
              "      <td>3</td>\n",
              "      <td>2</td>\n",
              "      <td>4</td>\n",
              "      <td>2</td>\n",
              "      <td>0</td>\n",
              "      <td>3</td>\n",
              "    </tr>\n",
              "    <tr>\n",
              "      <th>mar</th>\n",
              "      <td>11</td>\n",
              "      <td>12</td>\n",
              "      <td>10</td>\n",
              "      <td>7</td>\n",
              "      <td>5</td>\n",
              "      <td>5</td>\n",
              "      <td>4</td>\n",
              "    </tr>\n",
              "    <tr>\n",
              "      <th>may</th>\n",
              "      <td>1</td>\n",
              "      <td>0</td>\n",
              "      <td>1</td>\n",
              "      <td>0</td>\n",
              "      <td>0</td>\n",
              "      <td>0</td>\n",
              "      <td>0</td>\n",
              "    </tr>\n",
              "    <tr>\n",
              "      <th>nov</th>\n",
              "      <td>0</td>\n",
              "      <td>0</td>\n",
              "      <td>0</td>\n",
              "      <td>0</td>\n",
              "      <td>0</td>\n",
              "      <td>1</td>\n",
              "      <td>0</td>\n",
              "    </tr>\n",
              "    <tr>\n",
              "      <th>oct</th>\n",
              "      <td>1</td>\n",
              "      <td>4</td>\n",
              "      <td>3</td>\n",
              "      <td>3</td>\n",
              "      <td>0</td>\n",
              "      <td>2</td>\n",
              "      <td>2</td>\n",
              "    </tr>\n",
              "    <tr>\n",
              "      <th>sep</th>\n",
              "      <td>38</td>\n",
              "      <td>28</td>\n",
              "      <td>25</td>\n",
              "      <td>27</td>\n",
              "      <td>21</td>\n",
              "      <td>19</td>\n",
              "      <td>14</td>\n",
              "    </tr>\n",
              "  </tbody>\n",
              "</table>\n",
              "</div>"
            ],
            "text/plain": [
              "day    fri  mon  sat  sun  thu  tue  wed\n",
              "month                                   \n",
              "apr      1    1    1    3    2    0    1\n",
              "aug     21   15   29   40   26   28   25\n",
              "dec      1    4    0    1    1    1    1\n",
              "feb      5    3    4    4    1    2    1\n",
              "jan      0    0    1    1    0    0    0\n",
              "jul      3    4    8    5    3    6    3\n",
              "jun      3    3    2    4    2    0    3\n",
              "mar     11   12   10    7    5    5    4\n",
              "may      1    0    1    0    0    0    0\n",
              "nov      0    0    0    0    0    1    0\n",
              "oct      1    4    3    3    0    2    2\n",
              "sep     38   28   25   27   21   19   14"
            ]
          },
          "metadata": {
            "tags": []
          },
          "execution_count": 70
        }
      ]
    },
    {
      "cell_type": "code",
      "metadata": {
        "id": "l2oJR7aTHVp8",
        "colab_type": "code",
        "outputId": "ba00a9e5-2619-461d-bad2-52c6da1d71bb",
        "colab": {
          "base_uri": "https://localhost:8080/",
          "height": 478
        }
      },
      "source": [
        "pd.crosstab(df1['month'], df1['day'], margins = True)"
      ],
      "execution_count": 0,
      "outputs": [
        {
          "output_type": "execute_result",
          "data": {
            "text/html": [
              "<div>\n",
              "<style scoped>\n",
              "    .dataframe tbody tr th:only-of-type {\n",
              "        vertical-align: middle;\n",
              "    }\n",
              "\n",
              "    .dataframe tbody tr th {\n",
              "        vertical-align: top;\n",
              "    }\n",
              "\n",
              "    .dataframe thead th {\n",
              "        text-align: right;\n",
              "    }\n",
              "</style>\n",
              "<table border=\"1\" class=\"dataframe\">\n",
              "  <thead>\n",
              "    <tr style=\"text-align: right;\">\n",
              "      <th>day</th>\n",
              "      <th>fri</th>\n",
              "      <th>mon</th>\n",
              "      <th>sat</th>\n",
              "      <th>sun</th>\n",
              "      <th>thu</th>\n",
              "      <th>tue</th>\n",
              "      <th>wed</th>\n",
              "      <th>All</th>\n",
              "    </tr>\n",
              "    <tr>\n",
              "      <th>month</th>\n",
              "      <th></th>\n",
              "      <th></th>\n",
              "      <th></th>\n",
              "      <th></th>\n",
              "      <th></th>\n",
              "      <th></th>\n",
              "      <th></th>\n",
              "      <th></th>\n",
              "    </tr>\n",
              "  </thead>\n",
              "  <tbody>\n",
              "    <tr>\n",
              "      <th>apr</th>\n",
              "      <td>1</td>\n",
              "      <td>1</td>\n",
              "      <td>1</td>\n",
              "      <td>3</td>\n",
              "      <td>2</td>\n",
              "      <td>0</td>\n",
              "      <td>1</td>\n",
              "      <td>9</td>\n",
              "    </tr>\n",
              "    <tr>\n",
              "      <th>aug</th>\n",
              "      <td>21</td>\n",
              "      <td>15</td>\n",
              "      <td>29</td>\n",
              "      <td>40</td>\n",
              "      <td>26</td>\n",
              "      <td>28</td>\n",
              "      <td>25</td>\n",
              "      <td>184</td>\n",
              "    </tr>\n",
              "    <tr>\n",
              "      <th>dec</th>\n",
              "      <td>1</td>\n",
              "      <td>4</td>\n",
              "      <td>0</td>\n",
              "      <td>1</td>\n",
              "      <td>1</td>\n",
              "      <td>1</td>\n",
              "      <td>1</td>\n",
              "      <td>9</td>\n",
              "    </tr>\n",
              "    <tr>\n",
              "      <th>feb</th>\n",
              "      <td>5</td>\n",
              "      <td>3</td>\n",
              "      <td>4</td>\n",
              "      <td>4</td>\n",
              "      <td>1</td>\n",
              "      <td>2</td>\n",
              "      <td>1</td>\n",
              "      <td>20</td>\n",
              "    </tr>\n",
              "    <tr>\n",
              "      <th>jan</th>\n",
              "      <td>0</td>\n",
              "      <td>0</td>\n",
              "      <td>1</td>\n",
              "      <td>1</td>\n",
              "      <td>0</td>\n",
              "      <td>0</td>\n",
              "      <td>0</td>\n",
              "      <td>2</td>\n",
              "    </tr>\n",
              "    <tr>\n",
              "      <th>jul</th>\n",
              "      <td>3</td>\n",
              "      <td>4</td>\n",
              "      <td>8</td>\n",
              "      <td>5</td>\n",
              "      <td>3</td>\n",
              "      <td>6</td>\n",
              "      <td>3</td>\n",
              "      <td>32</td>\n",
              "    </tr>\n",
              "    <tr>\n",
              "      <th>jun</th>\n",
              "      <td>3</td>\n",
              "      <td>3</td>\n",
              "      <td>2</td>\n",
              "      <td>4</td>\n",
              "      <td>2</td>\n",
              "      <td>0</td>\n",
              "      <td>3</td>\n",
              "      <td>17</td>\n",
              "    </tr>\n",
              "    <tr>\n",
              "      <th>mar</th>\n",
              "      <td>11</td>\n",
              "      <td>12</td>\n",
              "      <td>10</td>\n",
              "      <td>7</td>\n",
              "      <td>5</td>\n",
              "      <td>5</td>\n",
              "      <td>4</td>\n",
              "      <td>54</td>\n",
              "    </tr>\n",
              "    <tr>\n",
              "      <th>may</th>\n",
              "      <td>1</td>\n",
              "      <td>0</td>\n",
              "      <td>1</td>\n",
              "      <td>0</td>\n",
              "      <td>0</td>\n",
              "      <td>0</td>\n",
              "      <td>0</td>\n",
              "      <td>2</td>\n",
              "    </tr>\n",
              "    <tr>\n",
              "      <th>nov</th>\n",
              "      <td>0</td>\n",
              "      <td>0</td>\n",
              "      <td>0</td>\n",
              "      <td>0</td>\n",
              "      <td>0</td>\n",
              "      <td>1</td>\n",
              "      <td>0</td>\n",
              "      <td>1</td>\n",
              "    </tr>\n",
              "    <tr>\n",
              "      <th>oct</th>\n",
              "      <td>1</td>\n",
              "      <td>4</td>\n",
              "      <td>3</td>\n",
              "      <td>3</td>\n",
              "      <td>0</td>\n",
              "      <td>2</td>\n",
              "      <td>2</td>\n",
              "      <td>15</td>\n",
              "    </tr>\n",
              "    <tr>\n",
              "      <th>sep</th>\n",
              "      <td>38</td>\n",
              "      <td>28</td>\n",
              "      <td>25</td>\n",
              "      <td>27</td>\n",
              "      <td>21</td>\n",
              "      <td>19</td>\n",
              "      <td>14</td>\n",
              "      <td>172</td>\n",
              "    </tr>\n",
              "    <tr>\n",
              "      <th>All</th>\n",
              "      <td>85</td>\n",
              "      <td>74</td>\n",
              "      <td>84</td>\n",
              "      <td>95</td>\n",
              "      <td>61</td>\n",
              "      <td>64</td>\n",
              "      <td>54</td>\n",
              "      <td>517</td>\n",
              "    </tr>\n",
              "  </tbody>\n",
              "</table>\n",
              "</div>"
            ],
            "text/plain": [
              "day    fri  mon  sat  sun  thu  tue  wed  All\n",
              "month                                        \n",
              "apr      1    1    1    3    2    0    1    9\n",
              "aug     21   15   29   40   26   28   25  184\n",
              "dec      1    4    0    1    1    1    1    9\n",
              "feb      5    3    4    4    1    2    1   20\n",
              "jan      0    0    1    1    0    0    0    2\n",
              "jul      3    4    8    5    3    6    3   32\n",
              "jun      3    3    2    4    2    0    3   17\n",
              "mar     11   12   10    7    5    5    4   54\n",
              "may      1    0    1    0    0    0    0    2\n",
              "nov      0    0    0    0    0    1    0    1\n",
              "oct      1    4    3    3    0    2    2   15\n",
              "sep     38   28   25   27   21   19   14  172\n",
              "All     85   74   84   95   61   64   54  517"
            ]
          },
          "metadata": {
            "tags": []
          },
          "execution_count": 72
        }
      ]
    },
    {
      "cell_type": "code",
      "metadata": {
        "id": "2jT0qb_TH1dg",
        "colab_type": "code",
        "outputId": "d4adac5d-8559-4219-b6b6-eb703ff9825c",
        "colab": {
          "base_uri": "https://localhost:8080/",
          "height": 478
        }
      },
      "source": [
        "pd.crosstab(df1['month'], df1['day'], margins = True, normalize = True)"
      ],
      "execution_count": 0,
      "outputs": [
        {
          "output_type": "execute_result",
          "data": {
            "text/html": [
              "<div>\n",
              "<style scoped>\n",
              "    .dataframe tbody tr th:only-of-type {\n",
              "        vertical-align: middle;\n",
              "    }\n",
              "\n",
              "    .dataframe tbody tr th {\n",
              "        vertical-align: top;\n",
              "    }\n",
              "\n",
              "    .dataframe thead th {\n",
              "        text-align: right;\n",
              "    }\n",
              "</style>\n",
              "<table border=\"1\" class=\"dataframe\">\n",
              "  <thead>\n",
              "    <tr style=\"text-align: right;\">\n",
              "      <th>day</th>\n",
              "      <th>fri</th>\n",
              "      <th>mon</th>\n",
              "      <th>sat</th>\n",
              "      <th>sun</th>\n",
              "      <th>thu</th>\n",
              "      <th>tue</th>\n",
              "      <th>wed</th>\n",
              "      <th>All</th>\n",
              "    </tr>\n",
              "    <tr>\n",
              "      <th>month</th>\n",
              "      <th></th>\n",
              "      <th></th>\n",
              "      <th></th>\n",
              "      <th></th>\n",
              "      <th></th>\n",
              "      <th></th>\n",
              "      <th></th>\n",
              "      <th></th>\n",
              "    </tr>\n",
              "  </thead>\n",
              "  <tbody>\n",
              "    <tr>\n",
              "      <th>apr</th>\n",
              "      <td>0.001934</td>\n",
              "      <td>0.001934</td>\n",
              "      <td>0.001934</td>\n",
              "      <td>0.005803</td>\n",
              "      <td>0.003868</td>\n",
              "      <td>0.000000</td>\n",
              "      <td>0.001934</td>\n",
              "      <td>0.017408</td>\n",
              "    </tr>\n",
              "    <tr>\n",
              "      <th>aug</th>\n",
              "      <td>0.040619</td>\n",
              "      <td>0.029014</td>\n",
              "      <td>0.056093</td>\n",
              "      <td>0.077369</td>\n",
              "      <td>0.050290</td>\n",
              "      <td>0.054159</td>\n",
              "      <td>0.048356</td>\n",
              "      <td>0.355899</td>\n",
              "    </tr>\n",
              "    <tr>\n",
              "      <th>dec</th>\n",
              "      <td>0.001934</td>\n",
              "      <td>0.007737</td>\n",
              "      <td>0.000000</td>\n",
              "      <td>0.001934</td>\n",
              "      <td>0.001934</td>\n",
              "      <td>0.001934</td>\n",
              "      <td>0.001934</td>\n",
              "      <td>0.017408</td>\n",
              "    </tr>\n",
              "    <tr>\n",
              "      <th>feb</th>\n",
              "      <td>0.009671</td>\n",
              "      <td>0.005803</td>\n",
              "      <td>0.007737</td>\n",
              "      <td>0.007737</td>\n",
              "      <td>0.001934</td>\n",
              "      <td>0.003868</td>\n",
              "      <td>0.001934</td>\n",
              "      <td>0.038685</td>\n",
              "    </tr>\n",
              "    <tr>\n",
              "      <th>jan</th>\n",
              "      <td>0.000000</td>\n",
              "      <td>0.000000</td>\n",
              "      <td>0.001934</td>\n",
              "      <td>0.001934</td>\n",
              "      <td>0.000000</td>\n",
              "      <td>0.000000</td>\n",
              "      <td>0.000000</td>\n",
              "      <td>0.003868</td>\n",
              "    </tr>\n",
              "    <tr>\n",
              "      <th>jul</th>\n",
              "      <td>0.005803</td>\n",
              "      <td>0.007737</td>\n",
              "      <td>0.015474</td>\n",
              "      <td>0.009671</td>\n",
              "      <td>0.005803</td>\n",
              "      <td>0.011605</td>\n",
              "      <td>0.005803</td>\n",
              "      <td>0.061896</td>\n",
              "    </tr>\n",
              "    <tr>\n",
              "      <th>jun</th>\n",
              "      <td>0.005803</td>\n",
              "      <td>0.005803</td>\n",
              "      <td>0.003868</td>\n",
              "      <td>0.007737</td>\n",
              "      <td>0.003868</td>\n",
              "      <td>0.000000</td>\n",
              "      <td>0.005803</td>\n",
              "      <td>0.032882</td>\n",
              "    </tr>\n",
              "    <tr>\n",
              "      <th>mar</th>\n",
              "      <td>0.021277</td>\n",
              "      <td>0.023211</td>\n",
              "      <td>0.019342</td>\n",
              "      <td>0.013540</td>\n",
              "      <td>0.009671</td>\n",
              "      <td>0.009671</td>\n",
              "      <td>0.007737</td>\n",
              "      <td>0.104449</td>\n",
              "    </tr>\n",
              "    <tr>\n",
              "      <th>may</th>\n",
              "      <td>0.001934</td>\n",
              "      <td>0.000000</td>\n",
              "      <td>0.001934</td>\n",
              "      <td>0.000000</td>\n",
              "      <td>0.000000</td>\n",
              "      <td>0.000000</td>\n",
              "      <td>0.000000</td>\n",
              "      <td>0.003868</td>\n",
              "    </tr>\n",
              "    <tr>\n",
              "      <th>nov</th>\n",
              "      <td>0.000000</td>\n",
              "      <td>0.000000</td>\n",
              "      <td>0.000000</td>\n",
              "      <td>0.000000</td>\n",
              "      <td>0.000000</td>\n",
              "      <td>0.001934</td>\n",
              "      <td>0.000000</td>\n",
              "      <td>0.001934</td>\n",
              "    </tr>\n",
              "    <tr>\n",
              "      <th>oct</th>\n",
              "      <td>0.001934</td>\n",
              "      <td>0.007737</td>\n",
              "      <td>0.005803</td>\n",
              "      <td>0.005803</td>\n",
              "      <td>0.000000</td>\n",
              "      <td>0.003868</td>\n",
              "      <td>0.003868</td>\n",
              "      <td>0.029014</td>\n",
              "    </tr>\n",
              "    <tr>\n",
              "      <th>sep</th>\n",
              "      <td>0.073501</td>\n",
              "      <td>0.054159</td>\n",
              "      <td>0.048356</td>\n",
              "      <td>0.052224</td>\n",
              "      <td>0.040619</td>\n",
              "      <td>0.036750</td>\n",
              "      <td>0.027079</td>\n",
              "      <td>0.332689</td>\n",
              "    </tr>\n",
              "    <tr>\n",
              "      <th>All</th>\n",
              "      <td>0.164410</td>\n",
              "      <td>0.143133</td>\n",
              "      <td>0.162476</td>\n",
              "      <td>0.183752</td>\n",
              "      <td>0.117988</td>\n",
              "      <td>0.123791</td>\n",
              "      <td>0.104449</td>\n",
              "      <td>1.000000</td>\n",
              "    </tr>\n",
              "  </tbody>\n",
              "</table>\n",
              "</div>"
            ],
            "text/plain": [
              "day         fri       mon       sat  ...       tue       wed       All\n",
              "month                                ...                              \n",
              "apr    0.001934  0.001934  0.001934  ...  0.000000  0.001934  0.017408\n",
              "aug    0.040619  0.029014  0.056093  ...  0.054159  0.048356  0.355899\n",
              "dec    0.001934  0.007737  0.000000  ...  0.001934  0.001934  0.017408\n",
              "feb    0.009671  0.005803  0.007737  ...  0.003868  0.001934  0.038685\n",
              "jan    0.000000  0.000000  0.001934  ...  0.000000  0.000000  0.003868\n",
              "jul    0.005803  0.007737  0.015474  ...  0.011605  0.005803  0.061896\n",
              "jun    0.005803  0.005803  0.003868  ...  0.000000  0.005803  0.032882\n",
              "mar    0.021277  0.023211  0.019342  ...  0.009671  0.007737  0.104449\n",
              "may    0.001934  0.000000  0.001934  ...  0.000000  0.000000  0.003868\n",
              "nov    0.000000  0.000000  0.000000  ...  0.001934  0.000000  0.001934\n",
              "oct    0.001934  0.007737  0.005803  ...  0.003868  0.003868  0.029014\n",
              "sep    0.073501  0.054159  0.048356  ...  0.036750  0.027079  0.332689\n",
              "All    0.164410  0.143133  0.162476  ...  0.123791  0.104449  1.000000\n",
              "\n",
              "[13 rows x 8 columns]"
            ]
          },
          "metadata": {
            "tags": []
          },
          "execution_count": 73
        }
      ]
    },
    {
      "cell_type": "markdown",
      "metadata": {
        "id": "OJ4t2IAk-6Vg",
        "colab_type": "text"
      },
      "source": [
        "## 4) Explore the distributions of the variables of the dataset using:\n",
        "- Histograms\n",
        "- Scatterplots\n",
        "- Density Plots"
      ]
    },
    {
      "cell_type": "code",
      "metadata": {
        "id": "DhES5WmH_NFt",
        "colab_type": "code",
        "outputId": "0f2df37d-cf4c-422e-f8c0-7617e62c0c31",
        "colab": {
          "base_uri": "https://localhost:8080/",
          "height": 265
        }
      },
      "source": [
        "df['Rings'].hist(bins=40);"
      ],
      "execution_count": 0,
      "outputs": [
        {
          "output_type": "display_data",
          "data": {
            "image/png": "[encoded data removed]",
            "text/plain": [
              "<Figure size 432x288 with 1 Axes>"
            ]
          },
          "metadata": {
            "tags": []
          }
        }
      ]
    },
    {
      "cell_type": "code",
      "metadata": {
        "id": "Z7RQbsudJqwx",
        "colab_type": "code",
        "outputId": "b897617a-6597-44a2-ac77-3cfcf79aefcf",
        "colab": {
          "base_uri": "https://localhost:8080/",
          "height": 265
        }
      },
      "source": [
        "df1['temp'].hist(bins=50);"
      ],
      "execution_count": 0,
      "outputs": [
        {
          "output_type": "display_data",
          "data": {
            "image/png": "[encoded data removed]",
            "text/plain": [
              "<Figure size 432x288 with 1 Axes>"
            ]
          },
          "metadata": {
            "tags": []
          }
        }
      ]
    },
    {
      "cell_type": "code",
      "metadata": {
        "id": "hcVqB8wQJXS2",
        "colab_type": "code",
        "outputId": "336033d5-d5e0-4056-c745-8b7ec8a22956",
        "colab": {
          "base_uri": "https://localhost:8080/",
          "height": 278
        }
      },
      "source": [
        "df.plot.scatter('Whole weight', 'Shell weight');"
      ],
      "execution_count": 0,
      "outputs": [
        {
          "output_type": "display_data",
          "data": {
            "image/png": "[encoded data removed]",
            "text/plain": [
              "<Figure size 432x288 with 1 Axes>"
            ]
          },
          "metadata": {
            "tags": []
          }
        }
      ]
    },
    {
      "cell_type": "code",
      "metadata": {
        "id": "rvg7wP42KLGn",
        "colab_type": "code",
        "outputId": "20f0f3af-481c-4b17-b719-6dbb8b4b568d",
        "colab": {
          "base_uri": "https://localhost:8080/",
          "height": 278
        }
      },
      "source": [
        "df1.plot.scatter('temp','wind');"
      ],
      "execution_count": 0,
      "outputs": [
        {
          "output_type": "display_data",
          "data": {
            "image/png": "[encoded data removed]",
            "text/plain": [
              "<Figure size 432x288 with 1 Axes>"
            ]
          },
          "metadata": {
            "tags": []
          }
        }
      ]
    },
    {
      "cell_type": "code",
      "metadata": {
        "id": "oVcWgVu6L8mm",
        "colab_type": "code",
        "outputId": "b35f5e3e-21b9-4879-b603-46608aa41540",
        "colab": {
          "base_uri": "https://localhost:8080/",
          "height": 265
        }
      },
      "source": [
        "df['Diameter'].plot.density();"
      ],
      "execution_count": 0,
      "outputs": [
        {
          "output_type": "display_data",
          "data": {
            "image/png": "[encoded data removed]",
            "text/plain": [
              "<Figure size 432x288 with 1 Axes>"
            ]
          },
          "metadata": {
            "tags": []
          }
        }
      ]
    },
    {
      "cell_type": "code",
      "metadata": {
        "id": "Fz7SV8XwMKtR",
        "colab_type": "code",
        "outputId": "5a7541f0-7853-4dde-9d8a-62b29c7062f2",
        "colab": {
          "base_uri": "https://localhost:8080/",
          "height": 265
        }
      },
      "source": [
        "df1['wind'].plot.density();"
      ],
      "execution_count": 0,
      "outputs": [
        {
          "output_type": "display_data",
          "data": {
            "image/png": "[encoded data removed]",
            "text/plain": [
              "<Figure size 432x288 with 1 Axes>"
            ]
          },
          "metadata": {
            "tags": []
          }
        }
      ]
    },
    {
      "cell_type": "markdown",
      "metadata": {
        "id": "LXXTzpgp_N0q",
        "colab_type": "text"
      },
      "source": [
        "## 5) Create at least one visualization from a crosstab:\n",
        "\n",
        "Remember that a crosstab is just a dataframe and can be manipulated in the same way by row index, column, index, or column/row/cell position.\n"
      ]
    },
    {
      "cell_type": "code",
      "metadata": {
        "id": "kBQKXHUa_VxM",
        "colab_type": "code",
        "outputId": "5e7d2428-6a99-4af7-ddcf-ef5167dbe30e",
        "colab": {
          "base_uri": "https://localhost:8080/",
          "height": 290
        }
      },
      "source": [
        "my_results = pd.crosstab(df1['month'], df1['day'])\n",
        "my_results.plot(kind='bar');"
      ],
      "execution_count": 0,
      "outputs": [
        {
          "output_type": "display_data",
          "data": {
            "image/png": "[encoded data removed]",
            "text/plain": [
              "<Figure size 432x288 with 1 Axes>"
            ]
          },
          "metadata": {
            "tags": []
          }
        }
      ]
    },
    {
      "cell_type": "markdown",
      "metadata": {
        "id": "MZCxTwKuReV9",
        "colab_type": "text"
      },
      "source": [
        "## Stretch Goals \n",
        "\n",
        "The following additional study tasks are optional, they are intended to give you an opportunity to stretch yourself beyond the main requirements of the assignment. You can pick and choose from the below, you do not need to complete them in any particular order.\n",
        "\n",
        "### - Practice Exploring other Datasets\n",
        "\n",
        "### -  Try using the Seaborn plotting library's \"Pairplot\" functionality in order to explore all of the possible histograms and scatterplots of your dataset all at once:\n",
        "\n",
        "[Seaborn Pairplot](https://seaborn.pydata.org/generated/seaborn.pairplot.html)\n",
        "\n",
        "### - Turn some of the continuous variables into categorical variables by binning the values using:\n",
        "- [pd.cut()](https://pandas.pydata.org/pandas-docs/version/0.23.4/generated/pandas.cut.html)\n",
        "- [pd.qcut()](https://pandas.pydata.org/pandas-docs/stable/reference/api/pandas.qcut.html)\n",
        "- <https://stackoverflow.com/questions/30211923/what-is-the-difference-between-pandas-qcut-and-pandas-cut>\n",
        "\n",
        "And then use crosstabs to compare/visualize these binned variables against the other variables.\n",
        "\n",
        "\n",
        "### - Other types and sources of data\n",
        "Not all data comes in a nice single file - for example, image classification involves handling lots of image files. You still will probably want labels for them, so you may have tabular data in addition to the image blobs - and the images may be reduced in resolution and even fit in a regular csv as a bunch of numbers.\n",
        "\n",
        "If you're interested in natural language processing and analyzing text, that is another example where, while it can be put in a csv, you may end up loading much larger raw data and generating features that can then be thought of in a more standard tabular fashion.\n",
        "\n",
        "Overall you will in the course of learning data science deal with loading data in a variety of ways. Another common way to get data is from a database - most modern applications are backed by one or more databases, which you can query to get data to analyze. We'll cover this more in our data engineering unit.\n",
        "\n",
        "How does data get in the database? Most applications generate logs - text files with lots and lots of records of each use of the application. Databases are often populated based on these files, but in some situations you may directly analyze log files. The usual way to do this is with command line (Unix) tools - command lines are intimidating, so don't expect to learn them all at once, but depending on your interests it can be useful to practice.\n",
        "\n",
        "One last major source of data is APIs: https://github.com/toddmotto/public-apis\n",
        "\n",
        "API stands for Application Programming Interface, and while originally meant e.g. the way an application interfaced with the GUI or other aspects of an operating system, now it largely refers to online services that let you query and retrieve data. You can essentially think of most of them as \"somebody else's database\" - you have (usually limited) access.\n",
        "\n",
        "*Stretch goal* - research one of the above extended forms of data/data loading. See if you can get a basic example working in a notebook. Image, text, or (public) APIs are probably more tractable - databases are interesting, but there aren't many publicly accessible and they require a great deal of setup."
      ]
    },
    {
      "cell_type": "code",
      "metadata": {
        "id": "f4QP6--JBXNK",
        "colab_type": "code",
        "colab": {}
      },
      "source": [
        ""
      ],
      "execution_count": 0,
      "outputs": []
    }
  ]
}